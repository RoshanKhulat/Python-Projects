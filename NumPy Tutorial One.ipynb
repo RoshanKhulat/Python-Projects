{
 "cells": [
  {
   "cell_type": "code",
   "execution_count": 3,
   "id": "9224a6e4-6e3a-40bb-b15b-687baa668ed9",
   "metadata": {},
   "outputs": [],
   "source": [
    "import numpy as np"
   ]
  },
  {
   "cell_type": "markdown",
   "id": "ab923610-747b-4033-9495-02b461804353",
   "metadata": {},
   "source": [
    "#### Use for Mathematical operations on Array or Matrix.\n",
    "\n",
    "#### AS compare to the list the Working speed of the numpy is 50 times faster than list."
   ]
  },
  {
   "cell_type": "code",
   "execution_count": 18,
   "id": "d02f7df3-f523-4867-b951-5635f72bdd47",
   "metadata": {},
   "outputs": [
    {
     "name": "stdout",
     "output_type": "stream",
     "text": [
      "Dimension of array 1\n"
     ]
    }
   ],
   "source": [
    "arr = np.array((1,2,3,4,5))\n",
    "arr\n",
    "print('Dimension of array',arr.ndim)"
   ]
  },
  {
   "cell_type": "code",
   "execution_count": 15,
   "id": "82d9bd6a-4906-4400-9ddc-5265db1d4035",
   "metadata": {},
   "outputs": [],
   "source": [
    "arr3 = np.array(20)"
   ]
  },
  {
   "cell_type": "code",
   "execution_count": 19,
   "id": "ba637ee5-664f-423e-928c-ba15af4f7026",
   "metadata": {},
   "outputs": [
    {
     "data": {
      "text/plain": [
       "0"
      ]
     },
     "execution_count": 19,
     "metadata": {},
     "output_type": "execute_result"
    }
   ],
   "source": [
    "arr3.ndim"
   ]
  },
  {
   "cell_type": "markdown",
   "id": "22f38a38-0222-4fce-a006-0ac3f2a3b914",
   "metadata": {},
   "source": [
    "### Dimension in Array"
   ]
  },
  {
   "cell_type": "code",
   "execution_count": 24,
   "id": "25871670-e811-4f49-9194-1f2913314b27",
   "metadata": {},
   "outputs": [
    {
     "name": "stdout",
     "output_type": "stream",
     "text": [
      "Array 45\n",
      "Dimension of Array 0\n",
      "type of Array <class 'numpy.ndarray'>\n"
     ]
    }
   ],
   "source": [
    "temp_array = np.array(45)\n",
    "print('Array',temp_array)\n",
    "print('Dimension of Array',temp_array.ndim)\n",
    "print('type of Array',type(temp_array))"
   ]
  },
  {
   "cell_type": "markdown",
   "id": "a5e71eae-df43-4810-9413-485ddd0fd459",
   "metadata": {},
   "source": [
    "## 1 d Array"
   ]
  },
  {
   "cell_type": "code",
   "execution_count": 26,
   "id": "feaa1259-f91d-412a-893c-1fc4400d9adb",
   "metadata": {},
   "outputs": [
    {
     "data": {
      "text/plain": [
       "1"
      ]
     },
     "execution_count": 26,
     "metadata": {},
     "output_type": "execute_result"
    }
   ],
   "source": [
    "array = np.array([1,2,5,6,3,4,7,10])\n",
    "array.ndim"
   ]
  },
  {
   "cell_type": "markdown",
   "id": "b381cde3-ea52-4458-838d-ec2496fda4d4",
   "metadata": {},
   "source": [
    "## 2 d Array"
   ]
  },
  {
   "cell_type": "code",
   "execution_count": 34,
   "id": "7dd5e253-f5f9-4b35-b7bf-ca05512adfb9",
   "metadata": {},
   "outputs": [
    {
     "data": {
      "text/plain": [
       "array([[ 1,  2,  3],\n",
       "       [10, 11, 12]])"
      ]
     },
     "execution_count": 34,
     "metadata": {},
     "output_type": "execute_result"
    }
   ],
   "source": [
    "# Syntax = two_dim_array = ([ [array1], [array2] ])\n",
    "two_d_array = np.array([[1,2,3],[10,11,12]])\n",
    "two_d_array"
   ]
  },
  {
   "cell_type": "code",
   "execution_count": 33,
   "id": "6603081a-77e7-49f5-aea7-455fad1bd95d",
   "metadata": {},
   "outputs": [
    {
     "data": {
      "text/plain": [
       "2"
      ]
     },
     "execution_count": 33,
     "metadata": {},
     "output_type": "execute_result"
    }
   ],
   "source": [
    "two_d_array.ndim"
   ]
  },
  {
   "cell_type": "code",
   "execution_count": 35,
   "id": "4f922500-1dc4-4b7c-9b67-0c5e97461185",
   "metadata": {},
   "outputs": [
    {
     "data": {
      "text/plain": [
       "array([[ 1.3,  6.2,  4.5],\n",
       "       [ 4.1, 10.6,  2.6]])"
      ]
     },
     "execution_count": 35,
     "metadata": {},
     "output_type": "execute_result"
    }
   ],
   "source": [
    "flot_points = np.array([[1.3,6.2,4.5],[4.1,10.6,2.6]])\n",
    "flot_points"
   ]
  },
  {
   "cell_type": "code",
   "execution_count": 36,
   "id": "cb7630e5-950c-4a02-a111-98d77724a8ad",
   "metadata": {},
   "outputs": [
    {
     "data": {
      "text/plain": [
       "2"
      ]
     },
     "execution_count": 36,
     "metadata": {},
     "output_type": "execute_result"
    }
   ],
   "source": [
    "flot_points.ndim"
   ]
  },
  {
   "cell_type": "markdown",
   "id": "d5c219df-43f3-44f3-88e6-552407800705",
   "metadata": {},
   "source": [
    "## 3 d Array"
   ]
  },
  {
   "cell_type": "code",
   "execution_count": 37,
   "id": "4a86aaea-f4cc-47e7-8c20-ff1c13c55ab2",
   "metadata": {},
   "outputs": [
    {
     "data": {
      "text/plain": [
       "array([[[ 1,  5,  6],\n",
       "        [ 7,  8,  9]],\n",
       "\n",
       "       [[ 7,  8,  9],\n",
       "        [78, 42, 51]]])"
      ]
     },
     "execution_count": 37,
     "metadata": {},
     "output_type": "execute_result"
    }
   ],
   "source": [
    "three_d_array = np.array([ [[1,5,6],[7,8,9]], [[7,8,9],[78,42,51]] ])\n",
    "three_d_array"
   ]
  },
  {
   "cell_type": "code",
   "execution_count": 38,
   "id": "a566d267-7ee0-47dd-ac37-31ab16167ec5",
   "metadata": {},
   "outputs": [
    {
     "data": {
      "text/plain": [
       "3"
      ]
     },
     "execution_count": 38,
     "metadata": {},
     "output_type": "execute_result"
    }
   ],
   "source": [
    "three_d_array.ndim"
   ]
  },
  {
   "cell_type": "markdown",
   "id": "908e11e7-0d38-4c8e-87e4-f41a392e4099",
   "metadata": {},
   "source": [
    "### We can easily find the dimension of the array using the methos 'ndim' method. with syntax  *array_name.ndim*"
   ]
  },
  {
   "cell_type": "markdown",
   "id": "e9378a28-6b5d-4b71-a22e-37b8eb932001",
   "metadata": {},
   "source": [
    "## Higher dimensional array"
   ]
  },
  {
   "cell_type": "markdown",
   "id": "d1d416bd-8030-479d-84a1-cc130d31e0f7",
   "metadata": {},
   "source": [
    "##### An Array we can have any number of dimensions."
   ]
  },
  {
   "cell_type": "markdown",
   "id": "3a48768d-5017-42d9-b173-cdf9b68080fd",
   "metadata": {},
   "source": [
    "##### When the array is created you can define the number of dimensions by using the method *ndmin*"
   ]
  },
  {
   "cell_type": "markdown",
   "id": "a691e9de-7b09-4da7-8cfe-8fef0be4295d",
   "metadata": {},
   "source": [
    "##### Syntax : array = np.array([1,2,5,6] , ndmin = 5)"
   ]
  },
  {
   "cell_type": "code",
   "execution_count": 48,
   "id": "056c94fb-3756-42bf-8db5-bff7325e4fa6",
   "metadata": {},
   "outputs": [
    {
     "name": "stdout",
     "output_type": "stream",
     "text": [
      "The Array is  [[[[[ 7  8  9 10  2]]]]]\n",
      "The Dimension is 5\n"
     ]
    }
   ],
   "source": [
    "test_array = np.array([7,8,9,10,2] , ndmin = 5)\n",
    "print('The Array is ',test_array)\n",
    "print('The Dimension is',test_array.ndim)"
   ]
  },
  {
   "cell_type": "markdown",
   "id": "daae6ee6-a3e8-4782-bc59-b94cc0d9d0d8",
   "metadata": {},
   "source": [
    "### NumPy Array Indexing"
   ]
  },
  {
   "cell_type": "code",
   "execution_count": 50,
   "id": "00aa37e9-29ce-4cab-aa61-f26267fb8cfb",
   "metadata": {},
   "outputs": [
    {
     "name": "stdout",
     "output_type": "stream",
     "text": [
      "50\n"
     ]
    }
   ],
   "source": [
    "arr = np.array([50,61,17,85,95,10])\n",
    "print(arr[0])"
   ]
  },
  {
   "cell_type": "markdown",
   "id": "fe156f28-d838-4a1f-984c-2ef3ba3a7c9b",
   "metadata": {},
   "source": [
    "##### Similar to list for one dimension"
   ]
  },
  {
   "cell_type": "code",
   "execution_count": 51,
   "id": "bd6a537b-8d46-421d-af78-8b82f5c1bac2",
   "metadata": {},
   "outputs": [
    {
     "data": {
      "text/plain": [
       "10"
      ]
     },
     "execution_count": 51,
     "metadata": {},
     "output_type": "execute_result"
    }
   ],
   "source": [
    "arr[5]"
   ]
  },
  {
   "cell_type": "markdown",
   "id": "a90e5218-6033-46c6-bb15-96640384164e",
   "metadata": {},
   "source": [
    "### Accesing the 2 D Array"
   ]
  },
  {
   "cell_type": "code",
   "execution_count": 55,
   "id": "e4155234-2e4e-4b18-bd43-7f676e1a54fd",
   "metadata": {},
   "outputs": [
    {
     "data": {
      "text/plain": [
       "array([[10, 12, 15, 14, 91],\n",
       "       [45, 12, 32, 65, 41]])"
      ]
     },
     "execution_count": 55,
     "metadata": {},
     "output_type": "execute_result"
    }
   ],
   "source": [
    "array_2_d = np.array([[10,12,15,14,91] , [45,12,32,65,41]])\n",
    "array_2_d"
   ]
  },
  {
   "cell_type": "code",
   "execution_count": 56,
   "id": "6ab9e63f-0f7a-43ef-8e5e-9e78fde89af4",
   "metadata": {},
   "outputs": [
    {
     "data": {
      "text/plain": [
       "91"
      ]
     },
     "execution_count": 56,
     "metadata": {},
     "output_type": "execute_result"
    }
   ],
   "source": [
    "# For Accesing the elements use the syntax : array_name[row_position , column_position]\n",
    "array_2_d[0,4]"
   ]
  },
  {
   "cell_type": "code",
   "execution_count": 57,
   "id": "40acd7c0-006d-406c-8cd2-a73eb584db64",
   "metadata": {},
   "outputs": [
    {
     "data": {
      "text/plain": [
       "65"
      ]
     },
     "execution_count": 57,
     "metadata": {},
     "output_type": "execute_result"
    }
   ],
   "source": [
    "array_2_d[1,3]"
   ]
  },
  {
   "cell_type": "markdown",
   "id": "6789feb7-9ea8-4dce-a8e9-719db3d8ae9c",
   "metadata": {},
   "source": [
    "##### Q) From Array add 91 and 65, print the output"
   ]
  },
  {
   "cell_type": "code",
   "execution_count": 59,
   "id": "226be9ca-d98c-4d58-a5cd-e4934a3b750a",
   "metadata": {},
   "outputs": [
    {
     "name": "stdout",
     "output_type": "stream",
     "text": [
      "First Element is  91\n",
      "Second Element is  65\n",
      "Sum of the Elements is 156\n"
     ]
    }
   ],
   "source": [
    "print('First Element is ',array_2_d[0,4])\n",
    "print('Second Element is ',array_2_d[1,3])\n",
    "print('Sum of the Elements is',array_2_d[0,4] + array_2_d[1,3])"
   ]
  },
  {
   "cell_type": "markdown",
   "id": "d4f94ab2-c945-462a-a2c0-ba6cc2024f3b",
   "metadata": {},
   "source": [
    "### Accesing the 3 D Array"
   ]
  },
  {
   "cell_type": "code",
   "execution_count": 62,
   "id": "bdae3266-9a77-4a6f-a09f-76e7a7ddae28",
   "metadata": {},
   "outputs": [
    {
     "data": {
      "text/plain": [
       "array([[[10, 51, 61, 78],\n",
       "        [78, 95, 41, 62]],\n",
       "\n",
       "       [[78, 95, 12, 45],\n",
       "        [70, 80, 90, 10]]])"
      ]
     },
     "execution_count": 62,
     "metadata": {},
     "output_type": "execute_result"
    }
   ],
   "source": [
    "array_3_d = np.array([[[10,51,61,78],[78,95,41,62]] , [[78,95,12,45],[70,80,90,10]]])\n",
    "array_3_d"
   ]
  },
  {
   "cell_type": "code",
   "execution_count": 63,
   "id": "79d811aa-1747-4203-9ce4-84fa4dda860c",
   "metadata": {},
   "outputs": [
    {
     "data": {
      "text/plain": [
       "3"
      ]
     },
     "execution_count": 63,
     "metadata": {},
     "output_type": "execute_result"
    }
   ],
   "source": [
    "array_3_d.ndim"
   ]
  },
  {
   "cell_type": "code",
   "execution_count": 69,
   "id": "89e4a724-aa56-476d-8044-648358c3a633",
   "metadata": {},
   "outputs": [
    {
     "data": {
      "text/plain": [
       "61"
      ]
     },
     "execution_count": 69,
     "metadata": {},
     "output_type": "execute_result"
    }
   ],
   "source": [
    "# Syntax : 3d_arrayName[First_2d_array_position, Single_d_array_postion,Column_position]\n",
    "array_3_d[0,0,2]"
   ]
  },
  {
   "cell_type": "code",
   "execution_count": null,
   "id": "10ebbc9e-ba58-45cd-9e33-d592331a3904",
   "metadata": {},
   "outputs": [],
   "source": []
  }
 ],
 "metadata": {
  "kernelspec": {
   "display_name": "Python 3 (ipykernel)",
   "language": "python",
   "name": "python3"
  },
  "language_info": {
   "codemirror_mode": {
    "name": "ipython",
    "version": 3
   },
   "file_extension": ".py",
   "mimetype": "text/x-python",
   "name": "python",
   "nbconvert_exporter": "python",
   "pygments_lexer": "ipython3",
   "version": "3.11.7"
  }
 },
 "nbformat": 4,
 "nbformat_minor": 5
}
