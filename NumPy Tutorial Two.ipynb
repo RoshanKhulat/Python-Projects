{
 "cells": [
  {
   "cell_type": "code",
   "execution_count": 1,
   "id": "d2de93a4-f826-4505-ba5e-f8acaf893fda",
   "metadata": {},
   "outputs": [],
   "source": [
    "import numpy as np"
   ]
  },
  {
   "cell_type": "markdown",
   "id": "647c537a-690d-406c-bf43-966cc12a9f82",
   "metadata": {},
   "source": [
    "#### Slicing of numpy arrays"
   ]
  },
  {
   "cell_type": "markdown",
   "id": "6ee94afc-78d1-46b9-a2b2-4f2a23d30719",
   "metadata": {},
   "source": [
    "### Slicing in 1 D Array"
   ]
  },
  {
   "cell_type": "code",
   "execution_count": 18,
   "id": "88327413-f9eb-4b55-bbd7-9bd3a03159e3",
   "metadata": {},
   "outputs": [
    {
     "name": "stdout",
     "output_type": "stream",
     "text": [
      "Original array :: [12 45 62 78 95 41 31]\n",
      "Printing from 1 index position ::  [45 62 78 95 41 31]\n",
      "Printing from index 1 to (5-1) = 4  ::  [45 62 78 95]\n"
     ]
    }
   ],
   "source": [
    "# One Dimensional Array\n",
    "array = np.array([12,45,62,78,95,41,31])\n",
    "print('Original array ::',array)\n",
    "print('Printing from 1 index position :: ',array[1:])\n",
    "# array[StartPosition , EndPosition]\n",
    "\n",
    "print('Printing from index 1 to (5-1) = 4  :: ',array[1:5])"
   ]
  },
  {
   "cell_type": "code",
   "execution_count": 20,
   "id": "1b83b5c7-454f-427e-a02a-eb4eeb621e04",
   "metadata": {},
   "outputs": [
    {
     "data": {
      "text/plain": [
       "array([12, 62, 95, 31])"
      ]
     },
     "execution_count": 20,
     "metadata": {},
     "output_type": "execute_result"
    }
   ],
   "source": [
    "# Acces the position by skiping the steps \n",
    "array[::2]\n",
    "# [12,45,62,78,95,41,31] -> [12, 62, 95, 31] skip the next element from the begining "
   ]
  },
  {
   "cell_type": "markdown",
   "id": "2393cfe9-b896-4ae9-bc57-d6547df8dd01",
   "metadata": {},
   "source": [
    "### Slicing in 2 D Array"
   ]
  },
  {
   "cell_type": "code",
   "execution_count": 13,
   "id": "b9ec4be0-4903-43ff-b429-1e2a21b9ce3b",
   "metadata": {},
   "outputs": [
    {
     "data": {
      "text/plain": [
       "array([[78, 45, 95, 12],\n",
       "       [45, 10, 20, 84],\n",
       "       [78, 45, 95, 32]])"
      ]
     },
     "execution_count": 13,
     "metadata": {},
     "output_type": "execute_result"
    }
   ],
   "source": [
    "array_2_d = np.array([[78,45,95,12],[45,10,20,84],[78,45,95,32]])\n",
    "array_2_d"
   ]
  },
  {
   "cell_type": "code",
   "execution_count": 24,
   "id": "e239ab1f-2417-44f3-b2fa-8af99af43b42",
   "metadata": {},
   "outputs": [
    {
     "data": {
      "text/plain": [
       "array([10, 20])"
      ]
     },
     "execution_count": 24,
     "metadata": {},
     "output_type": "execute_result"
    }
   ],
   "source": [
    "array_2_d[1,1:3]"
   ]
  },
  {
   "cell_type": "code",
   "execution_count": 25,
   "id": "87fa7d3e-4ee8-4ab0-a624-2af4b6442079",
   "metadata": {},
   "outputs": [
    {
     "data": {
      "text/plain": [
       "array([[78, 95, 12, 32, 10],\n",
       "       [95, 75, 62, 40, 31],\n",
       "       [88, 81, 78, 61, 41]])"
      ]
     },
     "execution_count": 25,
     "metadata": {},
     "output_type": "execute_result"
    }
   ],
   "source": [
    "array_2_dimensional = np.array([[78,95,12,32,10],[95,75,62,40,31],[88,81,78,61,41]])\n",
    "array_2_dimensional"
   ]
  },
  {
   "cell_type": "code",
   "execution_count": 27,
   "id": "6b637aca-5702-481d-84ff-4d862126a032",
   "metadata": {},
   "outputs": [
    {
     "data": {
      "text/plain": [
       "array([61, 41])"
      ]
     },
     "execution_count": 27,
     "metadata": {},
     "output_type": "execute_result"
    }
   ],
   "source": [
    "# Accesing the last two elements\n",
    "array_2_dimensional[2,3:]"
   ]
  },
  {
   "cell_type": "code",
   "execution_count": 28,
   "id": "62138595-96c8-45d9-9f02-87cbcda53e2a",
   "metadata": {},
   "outputs": [
    {
     "data": {
      "text/plain": [
       "dtype('int32')"
      ]
     },
     "execution_count": 28,
     "metadata": {},
     "output_type": "execute_result"
    }
   ],
   "source": [
    "array_2_dimensional.dtype"
   ]
  },
  {
   "cell_type": "code",
   "execution_count": 31,
   "id": "2e64e88d-4356-48cf-b378-b61c2beb4f94",
   "metadata": {},
   "outputs": [],
   "source": [
    "array_str = np.array([['String','Test','Five'],['Dream','Final','Demo']])"
   ]
  },
  {
   "cell_type": "code",
   "execution_count": 32,
   "id": "ae26f553-f528-4ddd-838d-308fd4cfc77b",
   "metadata": {},
   "outputs": [
    {
     "name": "stdout",
     "output_type": "stream",
     "text": [
      "<U6\n"
     ]
    }
   ],
   "source": [
    "print(array_str.dtype)"
   ]
  },
  {
   "cell_type": "markdown",
   "id": "4ec6a351-570d-4e84-8525-f12145b9fd55",
   "metadata": {},
   "source": [
    "#### Creating array defining the datatypes"
   ]
  },
  {
   "cell_type": "code",
   "execution_count": 33,
   "id": "e6d02ddd-e7a4-4c6e-8ea1-919aef5826b1",
   "metadata": {},
   "outputs": [
    {
     "name": "stdout",
     "output_type": "stream",
     "text": [
      "The Array is :: [b'1' b'2' b'3' b'4' b'5']\n",
      "The Datatypes of the array is :: |S1\n"
     ]
    }
   ],
   "source": [
    "test_array = np.array([1,2,3,4,5] , dtype='S')\n",
    "print('The Array is ::',test_array)\n",
    "print('The Datatypes of the array is ::',test_array.dtype)"
   ]
  },
  {
   "cell_type": "markdown",
   "id": "f5ab9097-3129-4cfd-81f7-2c067fde1aad",
   "metadata": {},
   "source": [
    "#### Creating array with 4 bytes of integer"
   ]
  },
  {
   "cell_type": "code",
   "execution_count": 35,
   "id": "d0a826dd-9dc5-4f76-b3c0-19ad24035026",
   "metadata": {},
   "outputs": [
    {
     "name": "stdout",
     "output_type": "stream",
     "text": [
      "The Given array is :: [ 7  8  9 10  5]\n",
      "DataTypes of the array is :: int32\n"
     ]
    }
   ],
   "source": [
    "arr = np.array([7,8,9,10,5], dtype = 'i4')\n",
    "print('The Given array is ::',arr)\n",
    "print('DataTypes of the array is ::',arr.dtype)"
   ]
  },
  {
   "cell_type": "markdown",
   "id": "2976df77-ec24-4339-aaee-d219884a712a",
   "metadata": {},
   "source": [
    "#### Shapes in NumPy Lib"
   ]
  },
  {
   "cell_type": "code",
   "execution_count": 36,
   "id": "b77c35ec-92d2-4beb-8f78-a142d00630df",
   "metadata": {},
   "outputs": [
    {
     "data": {
      "text/plain": [
       "(2, 3)"
      ]
     },
     "execution_count": 36,
     "metadata": {},
     "output_type": "execute_result"
    }
   ],
   "source": [
    "array_test_1 = np.array([[1,2,3],[10,11,12]])\n",
    "array_test_1.shape"
   ]
  },
  {
   "cell_type": "code",
   "execution_count": 37,
   "id": "25987b6c-d1ae-4aa5-9980-59eb6dec9e02",
   "metadata": {},
   "outputs": [
    {
     "data": {
      "text/plain": [
       "(2, 2, 3)"
      ]
     },
     "execution_count": 37,
     "metadata": {},
     "output_type": "execute_result"
    }
   ],
   "source": [
    "array_test_2 = np.array([ [[1,5,6],[7,8,9]], [[7,8,9],[78,42,51]] ])\n",
    "array_test_2.shape"
   ]
  },
  {
   "cell_type": "markdown",
   "id": "6713b802-14d3-4821-887f-e5000c29d7a6",
   "metadata": {},
   "source": [
    "#### Joining Numpy Arrays"
   ]
  },
  {
   "cell_type": "code",
   "execution_count": 40,
   "id": "8ee0e5d6-5424-4d88-b03b-64544a0dff1c",
   "metadata": {},
   "outputs": [
    {
     "name": "stdout",
     "output_type": "stream",
     "text": [
      "The Third array is :: [45 62 31 78 94 42]\n"
     ]
    }
   ],
   "source": [
    "array_1 = np.array([45,62,31])\n",
    "array_2 = np.array([78,94,42])\n",
    "\n",
    "array_3 = np.concatenate((array_1,array_2))\n",
    "\n",
    "print('The Third array is ::',array_3)"
   ]
  },
  {
   "cell_type": "markdown",
   "id": "7dbd99dd-5ae3-4374-b8a9-e53da78b304d",
   "metadata": {},
   "source": [
    "#### joining 2 D Array"
   ]
  },
  {
   "cell_type": "code",
   "execution_count": 42,
   "id": "2032c704-a855-4eb4-bfec-0e0ee9937533",
   "metadata": {},
   "outputs": [
    {
     "data": {
      "text/plain": [
       "array([[ 1,  2,  3, 77, 22, 33],\n",
       "       [10, 11, 12, 71, 41, 11]])"
      ]
     },
     "execution_count": 42,
     "metadata": {},
     "output_type": "execute_result"
    }
   ],
   "source": [
    "arr1 = np.array([[1,2,3],[10,11,12]])\n",
    "arr2 = np.array([[77,22,33],[71,41,11]])\n",
    "\n",
    "array_row = np.concatenate((arr1,arr2), axis = 1)\n",
    "array_row"
   ]
  },
  {
   "cell_type": "code",
   "execution_count": 43,
   "id": "d36436ed-accb-429f-b754-592c4cd5ac7e",
   "metadata": {},
   "outputs": [
    {
     "data": {
      "text/plain": [
       "array([[ 1,  2,  3],\n",
       "       [10, 11, 12],\n",
       "       [77, 22, 33],\n",
       "       [71, 41, 11]])"
      ]
     },
     "execution_count": 43,
     "metadata": {},
     "output_type": "execute_result"
    }
   ],
   "source": [
    "arr1 = np.array([[1,2,3],[10,11,12]])\n",
    "arr2 = np.array([[77,22,33],[71,41,11]])\n",
    "\n",
    "array_col = np.concatenate((arr1,arr2), axis = 0)\n",
    "array_col"
   ]
  },
  {
   "cell_type": "markdown",
   "id": "5447f1ba-cf27-4544-9c4d-69be203c46a7",
   "metadata": {},
   "source": [
    "### Spliting the NumPy Array"
   ]
  },
  {
   "cell_type": "markdown",
   "id": "0042cc92-e5fa-4e1e-a9ad-36b2cd12f560",
   "metadata": {},
   "source": [
    "#### Spliting the Array in 3 Parts"
   ]
  },
  {
   "cell_type": "code",
   "execution_count": 47,
   "id": "8511baf3-a167-4b95-a771-559c2501b1fa",
   "metadata": {},
   "outputs": [
    {
     "name": "stdout",
     "output_type": "stream",
     "text": [
      "[array([77, 22]), array([33, 71]), array([41]), array([121])]\n"
     ]
    }
   ],
   "source": [
    "array_one = np.array([77,22,33,71,41,121])\n",
    "new_array = np.array_split(array_one,4)\n",
    "print(new_array)"
   ]
  },
  {
   "cell_type": "markdown",
   "id": "8fdccd20-9210-458d-bb70-ce48d082ff56",
   "metadata": {},
   "source": [
    "### ravel & flatten\n",
    "##### Converting the multidimensional array into one dimensional array."
   ]
  },
  {
   "cell_type": "code",
   "execution_count": 51,
   "id": "94725880-5570-4117-ad0e-da67f627595b",
   "metadata": {},
   "outputs": [
    {
     "name": "stdout",
     "output_type": "stream",
     "text": [
      "Original Array :: [[[77 22 33]\n",
      "  [71 41 11]]\n",
      "\n",
      " [[ 1  2  3]\n",
      "  [10 11 12]]]\n",
      "Dimension of array :: 3\n"
     ]
    }
   ],
   "source": [
    "array_test = np.array([ [[77,22,33],[71,41,11]],[[1,2,3],[10,11,12]] ])\n",
    "print('Original Array ::',array_test)\n",
    "print('Dimension of array ::',array_test.ndim)"
   ]
  },
  {
   "cell_type": "code",
   "execution_count": 56,
   "id": "dc2b8c4f-0838-4b86-a3dc-e8a5be9eb7bf",
   "metadata": {},
   "outputs": [
    {
     "name": "stdout",
     "output_type": "stream",
     "text": [
      "ravel :: [77 22 33 71 41 11  1  2  3 10 11 12]\n"
     ]
    }
   ],
   "source": [
    "new_array = array_test.ravel()\n",
    "print(\"ravel ::\",new_array)"
   ]
  },
  {
   "cell_type": "code",
   "execution_count": 55,
   "id": "900ae81c-6923-42dd-a59d-f2dac0e40c1c",
   "metadata": {},
   "outputs": [
    {
     "name": "stdout",
     "output_type": "stream",
     "text": [
      "flatten :: [77 22 33 71 41 11  1  2  3 10 11 12]\n"
     ]
    }
   ],
   "source": [
    "new_array = array_test.flatten()\n",
    "print(\"flatten ::\",new_array)"
   ]
  },
  {
   "cell_type": "markdown",
   "id": "fa618841-9fb8-49c6-bd61-314f217b281e",
   "metadata": {},
   "source": [
    "#### unique Method"
   ]
  },
  {
   "cell_type": "code",
   "execution_count": 61,
   "id": "777cdaa2-69ea-4d2a-a99d-ed43a7e4ba97",
   "metadata": {},
   "outputs": [
    {
     "name": "stdout",
     "output_type": "stream",
     "text": [
      "Given array :: [77 22 33 71 41 11  1  2  3 10 11 12 12]\n",
      "Unique array :: [ 1  2  3 10 11 12 22 33 41 71 77]\n"
     ]
    }
   ],
   "source": [
    "find_unique = np.array([77,22,33,71,41,11,1,2,3,10,11,12,12])\n",
    "print(\"Given array ::\",find_unique)\n",
    "unique_array = np.unique(find_unique)\n",
    "print(\"Unique array ::\",unique_array)"
   ]
  },
  {
   "cell_type": "code",
   "execution_count": 64,
   "id": "79ecfb14-0038-4b25-b2c5-d02e2ad2bcc0",
   "metadata": {},
   "outputs": [
    {
     "name": "stdout",
     "output_type": "stream",
     "text": [
      "Array With INDEX Values:: (array([ 1,  2,  3, 10, 11, 12, 22, 33, 41, 71, 77]), array([ 6,  7,  8,  9,  5, 11,  1,  2,  4,  3,  0], dtype=int64))\n"
     ]
    }
   ],
   "source": [
    "array_with_index = np.unique(find_unique, return_index = True)\n",
    "print('Array With INDEX Values::',array_with_index)"
   ]
  },
  {
   "cell_type": "code",
   "execution_count": 66,
   "id": "06f956c3-fba3-404e-ac0b-ed8d3bfb9978",
   "metadata": {},
   "outputs": [
    {
     "name": "stdout",
     "output_type": "stream",
     "text": [
      "Array With count of repetation:: (array([ 1,  2,  3, 10, 11, 12, 22, 33, 41, 71, 77]), array([ 6,  7,  8,  9,  5, 11,  1,  2,  4,  3,  0], dtype=int64), array([1, 1, 1, 1, 2, 2, 1, 1, 1, 1, 1], dtype=int64))\n"
     ]
    }
   ],
   "source": [
    "array_with_index = np.unique(find_unique, return_index = True, return_counts = True)\n",
    "print('Array With count of repetation::',array_with_index)"
   ]
  },
  {
   "cell_type": "markdown",
   "id": "4ea7de82-a89f-4338-b63c-347b6067fc98",
   "metadata": {},
   "source": [
    "#### Deleting the Elements"
   ]
  },
  {
   "cell_type": "code",
   "execution_count": 72,
   "id": "72f4a1b1-eacf-4ae3-a7da-49b539820325",
   "metadata": {},
   "outputs": [
    {
     "name": "stdout",
     "output_type": "stream",
     "text": [
      "Given array ::  [ 1  2  3 10 11 12 22 33 41 71 77]\n",
      "After process :: [ 1  2  3 10 11 22 33 41 71 77]\n"
     ]
    }
   ],
   "source": [
    "array_delete_ex = np.array([ 1,  2,  3, 10, 11, 12, 22, 33, 41, 71, 77])\n",
    "print('Given array :: ',array_delete_ex)\n",
    "array_delete_ex =np.delete(array_delete_ex,[5])\n",
    "print('After process ::',array_delete_ex)"
   ]
  },
  {
   "cell_type": "markdown",
   "id": "159c9158-3210-4329-9b96-fd70eb401f6b",
   "metadata": {},
   "source": [
    "#### 2 D array"
   ]
  },
  {
   "cell_type": "code",
   "execution_count": 81,
   "id": "8d1885fd-b17e-474f-87ce-2252287e6675",
   "metadata": {},
   "outputs": [
    {
     "name": "stdout",
     "output_type": "stream",
     "text": [
      "[[ 1.3  6.2  4.5]\n",
      " [ 1.3  6.2  4.5]\n",
      " [ 4.1 10.6  2.6]]\n",
      "\n",
      "[[ 1.3  6.2  4.5]\n",
      " [ 4.1 10.6  2.6]]\n"
     ]
    }
   ],
   "source": [
    "array_two = np.array([[1.3,6.2,4.5], [1.3,6.2,4.5],[4.1,10.6,2.6]])\n",
    "\n",
    "print(array_two)\n",
    "\n",
    "array_modifyed = np.delete(array_two,1,axis = 0)\n",
    "\n",
    "print()\n",
    "print(array_modifyed)\n"
   ]
  },
  {
   "cell_type": "code",
   "execution_count": null,
   "id": "49d33650-2651-4c4f-9e47-958567c8cc7b",
   "metadata": {},
   "outputs": [],
   "source": []
  }
 ],
 "metadata": {
  "kernelspec": {
   "display_name": "Python 3 (ipykernel)",
   "language": "python",
   "name": "python3"
  },
  "language_info": {
   "codemirror_mode": {
    "name": "ipython",
    "version": 3
   },
   "file_extension": ".py",
   "mimetype": "text/x-python",
   "name": "python",
   "nbconvert_exporter": "python",
   "pygments_lexer": "ipython3",
   "version": "3.11.7"
  }
 },
 "nbformat": 4,
 "nbformat_minor": 5
}
