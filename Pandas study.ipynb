{
 "cells": [
  {
   "cell_type": "code",
   "execution_count": 1,
   "id": "1c5df2cf-d961-47c4-9b7e-862be60bb2a3",
   "metadata": {},
   "outputs": [],
   "source": [
    "import pandas as pd\n",
    "import glob\n",
    "import os\n",
    "from pandas import DataFrame"
   ]
  },
  {
   "cell_type": "code",
   "execution_count": 2,
   "id": "feedc40a-818d-4ab0-b8d8-3e2c35138a0b",
   "metadata": {},
   "outputs": [
    {
     "data": {
      "text/plain": [
       "'C:\\\\Users\\\\Lenovo\\\\IIM_Skills_M.S Vanthana\\\\Pandas\\\\Revision_pandas'"
      ]
     },
     "execution_count": 2,
     "metadata": {},
     "output_type": "execute_result"
    }
   ],
   "source": [
    "os.getcwd()"
   ]
  },
  {
   "cell_type": "code",
   "execution_count": 3,
   "id": "e0b7cbd2-0f72-4629-848d-b619ecc4b222",
   "metadata": {},
   "outputs": [],
   "source": [
    "os.chdir(\"D:\\Data Science\\Python  Module\\IIM Skills Read CSV\")"
   ]
  },
  {
   "cell_type": "code",
   "execution_count": 4,
   "id": "77a2b461-b22a-4073-95db-77d3f65115f2",
   "metadata": {},
   "outputs": [
    {
     "data": {
      "text/plain": [
       "'D:\\\\Data Science\\\\Python  Module\\\\IIM Skills Read CSV'"
      ]
     },
     "execution_count": 4,
     "metadata": {},
     "output_type": "execute_result"
    }
   ],
   "source": [
    "os.getcwd()"
   ]
  },
  {
   "cell_type": "code",
   "execution_count": 5,
   "id": "8ed07e1d-1fca-4d5e-bb1e-9aa7dda70c21",
   "metadata": {},
   "outputs": [],
   "source": [
    "path = os.getcwd()"
   ]
  },
  {
   "cell_type": "code",
   "execution_count": 10,
   "id": "13fa1aac-7dc5-4fe3-b490-4841bb31cb96",
   "metadata": {},
   "outputs": [],
   "source": [
    "files = glob.glob(os.path.join(path,\"*.csv\"))"
   ]
  },
  {
   "cell_type": "code",
   "execution_count": 13,
   "id": "1347d4fb-087b-444f-823b-e25735bec057",
   "metadata": {},
   "outputs": [
    {
     "name": "stderr",
     "output_type": "stream",
     "text": [
      "C:\\Users\\Lenovo\\AppData\\Local\\Temp\\ipykernel_10536\\572239061.py:3: DtypeWarning: Columns (0,1,2,3,4,5,6,7,8,9,10,11,12,13,14,15) have mixed types. Specify dtype option on import or set low_memory=False.\n",
      "  file_info  = pd.read_csv(file)\n",
      "C:\\Users\\Lenovo\\AppData\\Local\\Temp\\ipykernel_10536\\572239061.py:3: DtypeWarning: Columns (0,1,2,3,4,5,6,7,8,9,10,11,12,13,14,15) have mixed types. Specify dtype option on import or set low_memory=False.\n",
      "  file_info  = pd.read_csv(file)\n",
      "C:\\Users\\Lenovo\\AppData\\Local\\Temp\\ipykernel_10536\\572239061.py:3: DtypeWarning: Columns (0,1,2,3,4,5,6,7,8,9,10,11,12,13,14,15) have mixed types. Specify dtype option on import or set low_memory=False.\n",
      "  file_info  = pd.read_csv(file)\n"
     ]
    }
   ],
   "source": [
    "list_files = []\n",
    "for file in files:\n",
    "    file_info  = pd.read_csv(file)\n",
    "    file_info.columns = file_info.iloc[1]\n",
    "    file_info = file_info.iloc[2:]\n",
    "    list_files.append(file_info)\n",
    "\n",
    "\n",
    "# print(list_files)"
   ]
  },
  {
   "cell_type": "code",
   "execution_count": 14,
   "id": "53cfc6f6-8873-469e-b117-362bce3fb1f5",
   "metadata": {},
   "outputs": [
    {
     "data": {
      "text/html": [
       "<div>\n",
       "<style scoped>\n",
       "    .dataframe tbody tr th:only-of-type {\n",
       "        vertical-align: middle;\n",
       "    }\n",
       "\n",
       "    .dataframe tbody tr th {\n",
       "        vertical-align: top;\n",
       "    }\n",
       "\n",
       "    .dataframe thead th {\n",
       "        text-align: right;\n",
       "    }\n",
       "</style>\n",
       "<table border=\"1\" class=\"dataframe\">\n",
       "  <thead>\n",
       "    <tr style=\"text-align: right;\">\n",
       "      <th>1</th>\n",
       "      <th>SalesKey</th>\n",
       "      <th>DateKey</th>\n",
       "      <th>channelKey</th>\n",
       "      <th>StoreKey</th>\n",
       "      <th>ProductKey</th>\n",
       "      <th>PromotionKey</th>\n",
       "      <th>UnitCost</th>\n",
       "      <th>UnitPrice</th>\n",
       "      <th>SalesQuantity</th>\n",
       "      <th>ReturnQuantity</th>\n",
       "      <th>ReturnAmount</th>\n",
       "      <th>DiscountQuantity</th>\n",
       "      <th>DiscountAmount</th>\n",
       "      <th>TotalCost</th>\n",
       "      <th>SalesAmount</th>\n",
       "      <th>GeographyKey</th>\n",
       "      <th>Date</th>\n",
       "    </tr>\n",
       "  </thead>\n",
       "  <tbody>\n",
       "    <tr>\n",
       "      <th>2</th>\n",
       "      <td>4687</td>\n",
       "      <td>39083</td>\n",
       "      <td>1</td>\n",
       "      <td>93</td>\n",
       "      <td>700</td>\n",
       "      <td>2</td>\n",
       "      <td>73.12</td>\n",
       "      <td>159</td>\n",
       "      <td>9</td>\n",
       "      <td>0</td>\n",
       "      <td>0</td>\n",
       "      <td>0</td>\n",
       "      <td>0</td>\n",
       "      <td>658.08</td>\n",
       "      <td>1431</td>\n",
       "      <td>787</td>\n",
       "      <td>01-01-2014</td>\n",
       "    </tr>\n",
       "    <tr>\n",
       "      <th>3</th>\n",
       "      <td>6576</td>\n",
       "      <td>39083</td>\n",
       "      <td>1</td>\n",
       "      <td>253</td>\n",
       "      <td>1846</td>\n",
       "      <td>5</td>\n",
       "      <td>509.32</td>\n",
       "      <td>999</td>\n",
       "      <td>3</td>\n",
       "      <td>1</td>\n",
       "      <td>999</td>\n",
       "      <td>1</td>\n",
       "      <td>149.85</td>\n",
       "      <td>1527.96</td>\n",
       "      <td>2847.15</td>\n",
       "      <td>558</td>\n",
       "      <td>01-01-2014</td>\n",
       "    </tr>\n",
       "    <tr>\n",
       "      <th>4</th>\n",
       "      <td>10301</td>\n",
       "      <td>39083</td>\n",
       "      <td>2</td>\n",
       "      <td>199</td>\n",
       "      <td>1822</td>\n",
       "      <td>2</td>\n",
       "      <td>16.31</td>\n",
       "      <td>32</td>\n",
       "      <td>4</td>\n",
       "      <td>0</td>\n",
       "      <td>0</td>\n",
       "      <td>7</td>\n",
       "      <td>11.2</td>\n",
       "      <td>65.24</td>\n",
       "      <td>116.8</td>\n",
       "      <td>800</td>\n",
       "      <td>01-01-2014</td>\n",
       "    </tr>\n",
       "    <tr>\n",
       "      <th>5</th>\n",
       "      <td>12973</td>\n",
       "      <td>39083</td>\n",
       "      <td>2</td>\n",
       "      <td>199</td>\n",
       "      <td>1444</td>\n",
       "      <td>2</td>\n",
       "      <td>105.77</td>\n",
       "      <td>230</td>\n",
       "      <td>18</td>\n",
       "      <td>0</td>\n",
       "      <td>0</td>\n",
       "      <td>1</td>\n",
       "      <td>11.5</td>\n",
       "      <td>1903.86</td>\n",
       "      <td>4128.5</td>\n",
       "      <td>800</td>\n",
       "      <td>01-01-2014</td>\n",
       "    </tr>\n",
       "    <tr>\n",
       "      <th>6</th>\n",
       "      <td>13143</td>\n",
       "      <td>39083</td>\n",
       "      <td>1</td>\n",
       "      <td>125</td>\n",
       "      <td>2517</td>\n",
       "      <td>2</td>\n",
       "      <td>1.71</td>\n",
       "      <td>3.35</td>\n",
       "      <td>80</td>\n",
       "      <td>1</td>\n",
       "      <td>3.35</td>\n",
       "      <td>0</td>\n",
       "      <td>0</td>\n",
       "      <td>136.8</td>\n",
       "      <td>268</td>\n",
       "      <td>916</td>\n",
       "      <td>01-01-2014</td>\n",
       "    </tr>\n",
       "    <tr>\n",
       "      <th>...</th>\n",
       "      <td>...</td>\n",
       "      <td>...</td>\n",
       "      <td>...</td>\n",
       "      <td>...</td>\n",
       "      <td>...</td>\n",
       "      <td>...</td>\n",
       "      <td>...</td>\n",
       "      <td>...</td>\n",
       "      <td>...</td>\n",
       "      <td>...</td>\n",
       "      <td>...</td>\n",
       "      <td>...</td>\n",
       "      <td>...</td>\n",
       "      <td>...</td>\n",
       "      <td>...</td>\n",
       "      <td>...</td>\n",
       "      <td>...</td>\n",
       "    </tr>\n",
       "    <tr>\n",
       "      <th>219564</th>\n",
       "      <td>3388077</td>\n",
       "      <td>40178</td>\n",
       "      <td>1</td>\n",
       "      <td>217</td>\n",
       "      <td>1108</td>\n",
       "      <td>28</td>\n",
       "      <td>208.4</td>\n",
       "      <td>629.0</td>\n",
       "      <td>8</td>\n",
       "      <td>0</td>\n",
       "      <td>0.0</td>\n",
       "      <td>3</td>\n",
       "      <td>377.4</td>\n",
       "      <td>1667.2</td>\n",
       "      <td>4654.6</td>\n",
       "      <td>759</td>\n",
       "      <td>31-12-2016</td>\n",
       "    </tr>\n",
       "    <tr>\n",
       "      <th>219565</th>\n",
       "      <td>3392235</td>\n",
       "      <td>40178</td>\n",
       "      <td>1</td>\n",
       "      <td>30</td>\n",
       "      <td>1092</td>\n",
       "      <td>22</td>\n",
       "      <td>222.98</td>\n",
       "      <td>673.0</td>\n",
       "      <td>6</td>\n",
       "      <td>0</td>\n",
       "      <td>0.0</td>\n",
       "      <td>3</td>\n",
       "      <td>403.8</td>\n",
       "      <td>1337.88</td>\n",
       "      <td>3634.2</td>\n",
       "      <td>829</td>\n",
       "      <td>31-12-2016</td>\n",
       "    </tr>\n",
       "    <tr>\n",
       "      <th>219566</th>\n",
       "      <td>3394640</td>\n",
       "      <td>40178</td>\n",
       "      <td>3</td>\n",
       "      <td>200</td>\n",
       "      <td>1428</td>\n",
       "      <td>22</td>\n",
       "      <td>123.24</td>\n",
       "      <td>268.0</td>\n",
       "      <td>13</td>\n",
       "      <td>0</td>\n",
       "      <td>0.0</td>\n",
       "      <td>4</td>\n",
       "      <td>214.4</td>\n",
       "      <td>1602.12</td>\n",
       "      <td>3269.6</td>\n",
       "      <td>894</td>\n",
       "      <td>31-12-2016</td>\n",
       "    </tr>\n",
       "    <tr>\n",
       "      <th>219567</th>\n",
       "      <td>3397579</td>\n",
       "      <td>40178</td>\n",
       "      <td>2</td>\n",
       "      <td>307</td>\n",
       "      <td>2206</td>\n",
       "      <td>23</td>\n",
       "      <td>210.72</td>\n",
       "      <td>635.99</td>\n",
       "      <td>24</td>\n",
       "      <td>1</td>\n",
       "      <td>635.99</td>\n",
       "      <td>10</td>\n",
       "      <td>953.985</td>\n",
       "      <td>5057.28</td>\n",
       "      <td>14309.775</td>\n",
       "      <td>710</td>\n",
       "      <td>31-12-2016</td>\n",
       "    </tr>\n",
       "    <tr>\n",
       "      <th>219568</th>\n",
       "      <td>3400314</td>\n",
       "      <td>40178</td>\n",
       "      <td>1</td>\n",
       "      <td>276</td>\n",
       "      <td>376</td>\n",
       "      <td>23</td>\n",
       "      <td>195.24</td>\n",
       "      <td>382.95</td>\n",
       "      <td>13</td>\n",
       "      <td>1</td>\n",
       "      <td>382.95</td>\n",
       "      <td>4</td>\n",
       "      <td>229.77</td>\n",
       "      <td>2342.88</td>\n",
       "      <td>4748.58</td>\n",
       "      <td>711</td>\n",
       "      <td>31-12-2016</td>\n",
       "    </tr>\n",
       "  </tbody>\n",
       "</table>\n",
       "<p>859505 rows × 17 columns</p>\n",
       "</div>"
      ],
      "text/plain": [
       "1      SalesKey DateKey channelKey StoreKey ProductKey PromotionKey UnitCost  \\\n",
       "2          4687   39083          1       93        700            2    73.12   \n",
       "3          6576   39083          1      253       1846            5   509.32   \n",
       "4         10301   39083          2      199       1822            2    16.31   \n",
       "5         12973   39083          2      199       1444            2   105.77   \n",
       "6         13143   39083          1      125       2517            2     1.71   \n",
       "...         ...     ...        ...      ...        ...          ...      ...   \n",
       "219564  3388077   40178          1      217       1108           28    208.4   \n",
       "219565  3392235   40178          1       30       1092           22   222.98   \n",
       "219566  3394640   40178          3      200       1428           22   123.24   \n",
       "219567  3397579   40178          2      307       2206           23   210.72   \n",
       "219568  3400314   40178          1      276        376           23   195.24   \n",
       "\n",
       "1      UnitPrice SalesQuantity ReturnQuantity ReturnAmount DiscountQuantity  \\\n",
       "2            159             9              0            0                0   \n",
       "3            999             3              1          999                1   \n",
       "4             32             4              0            0                7   \n",
       "5            230            18              0            0                1   \n",
       "6           3.35            80              1         3.35                0   \n",
       "...          ...           ...            ...          ...              ...   \n",
       "219564     629.0             8              0          0.0                3   \n",
       "219565     673.0             6              0          0.0                3   \n",
       "219566     268.0            13              0          0.0                4   \n",
       "219567    635.99            24              1       635.99               10   \n",
       "219568    382.95            13              1       382.95                4   \n",
       "\n",
       "1      DiscountAmount TotalCost SalesAmount GeographyKey        Date  \n",
       "2                   0    658.08        1431          787  01-01-2014  \n",
       "3              149.85   1527.96     2847.15          558  01-01-2014  \n",
       "4                11.2     65.24       116.8          800  01-01-2014  \n",
       "5                11.5   1903.86      4128.5          800  01-01-2014  \n",
       "6                   0     136.8         268          916  01-01-2014  \n",
       "...               ...       ...         ...          ...         ...  \n",
       "219564          377.4    1667.2      4654.6          759  31-12-2016  \n",
       "219565          403.8   1337.88      3634.2          829  31-12-2016  \n",
       "219566          214.4   1602.12      3269.6          894  31-12-2016  \n",
       "219567        953.985   5057.28   14309.775          710  31-12-2016  \n",
       "219568         229.77   2342.88     4748.58          711  31-12-2016  \n",
       "\n",
       "[859505 rows x 17 columns]"
      ]
     },
     "execution_count": 14,
     "metadata": {},
     "output_type": "execute_result"
    }
   ],
   "source": [
    "DataFrame = pd.concat(list_files)\n",
    "DataFrame"
   ]
  },
  {
   "cell_type": "code",
   "execution_count": 17,
   "id": "17469d8c-61b2-4c99-a96c-29a246801983",
   "metadata": {},
   "outputs": [
    {
     "data": {
      "text/plain": [
       "Index(['SalesKey', 'DateKey', 'channelKey', 'StoreKey', 'ProductKey',\n",
       "       'PromotionKey', 'UnitCost', 'UnitPrice', 'SalesQuantity',\n",
       "       'ReturnQuantity', 'ReturnAmount', 'DiscountQuantity', 'DiscountAmount',\n",
       "       'TotalCost', 'SalesAmount', 'GeographyKey', 'Date'],\n",
       "      dtype='object', name=1)"
      ]
     },
     "execution_count": 17,
     "metadata": {},
     "output_type": "execute_result"
    }
   ],
   "source": [
    "DataFrame.columns"
   ]
  },
  {
   "cell_type": "code",
   "execution_count": 20,
   "id": "de865955-3ba0-4ff3-8a50-aecf454d3ddb",
   "metadata": {},
   "outputs": [],
   "source": [
    "## Get Particluar columns\n",
    "\n",
    "Required_Data = DataFrame[['SalesKey','UnitCost', 'UnitPrice', 'SalesQuantity',\n",
    "       'ReturnQuantity', 'ReturnAmount', 'DiscountQuantity', 'DiscountAmount',\n",
    "       'TotalCost', 'SalesAmount', 'GeographyKey', 'Date']]"
   ]
  },
  {
   "cell_type": "code",
   "execution_count": 22,
   "id": "28247628-aa24-485b-9796-b704d4661a70",
   "metadata": {},
   "outputs": [
    {
     "data": {
      "text/plain": [
       "array(['39083', '39084', '39085', ..., 40176, 40177, 40178], dtype=object)"
      ]
     },
     "execution_count": 22,
     "metadata": {},
     "output_type": "execute_result"
    }
   ],
   "source": [
    "DataFrame['DateKey'].unique()"
   ]
  },
  {
   "cell_type": "code",
   "execution_count": 23,
   "id": "7f41f3d0-f961-4b79-9995-ab4f3d9cd0fc",
   "metadata": {},
   "outputs": [
    {
     "data": {
      "text/plain": [
       "array(['1', '2', '4', '3', 1, 4, 2, 3], dtype=object)"
      ]
     },
     "execution_count": 23,
     "metadata": {},
     "output_type": "execute_result"
    }
   ],
   "source": [
    "DataFrame['channelKey'].unique()"
   ]
  },
  {
   "cell_type": "code",
   "execution_count": 25,
   "id": "0e84347d-df26-4688-8ff0-9c1f9c14e3e4",
   "metadata": {},
   "outputs": [],
   "source": [
    "# We are in the Same location where our excel file is store thus tom read that excel files & their Worksheets file we are use below code\n",
    "\n",
    "xls = pd.ExcelFile(\"lookup1.xlsx\")\n",
    "\n",
    "# reading the Worksheets \n",
    "# Syntax : Veriable = pd.read_excel(xls,\"SHEET NAME\")\n",
    "sheetOne = pd.read_excel(xls,\"Product\")\n",
    "sheetTwo = pd.read_excel(xls,\"Geography\")\n",
    "sheetThree = pd.read_excel(xls,\"Channel\")"
   ]
  },
  {
   "cell_type": "code",
   "execution_count": 28,
   "id": "4be32f5d-5732-4648-aa11-18dfe69aafb6",
   "metadata": {},
   "outputs": [
    {
     "data": {
      "text/plain": [
       "array(['1', '2', '4', '3', 1, 4, 2, 3], dtype=object)"
      ]
     },
     "execution_count": 28,
     "metadata": {},
     "output_type": "execute_result"
    }
   ],
   "source": [
    "DataFrame['channelKey'].unique()"
   ]
  },
  {
   "cell_type": "code",
   "execution_count": 30,
   "id": "3d2b9ea0-9a51-4751-a6db-38d7de9db55a",
   "metadata": {},
   "outputs": [
    {
     "data": {
      "text/plain": [
       "array([1, 2, 4, 3])"
      ]
     },
     "execution_count": 30,
     "metadata": {},
     "output_type": "execute_result"
    }
   ],
   "source": [
    "DataFrame['channelKey'] = DataFrame['channelKey'].astype(int)\n",
    "DataFrame['channelKey'].unique()"
   ]
  },
  {
   "cell_type": "code",
   "execution_count": null,
   "id": "10b11a66-ea0b-497b-8d0f-da53d1c0873c",
   "metadata": {},
   "outputs": [],
   "source": []
  }
 ],
 "metadata": {
  "kernelspec": {
   "display_name": "Python 3 (ipykernel)",
   "language": "python",
   "name": "python3"
  },
  "language_info": {
   "codemirror_mode": {
    "name": "ipython",
    "version": 3
   },
   "file_extension": ".py",
   "mimetype": "text/x-python",
   "name": "python",
   "nbconvert_exporter": "python",
   "pygments_lexer": "ipython3",
   "version": "3.11.7"
  }
 },
 "nbformat": 4,
 "nbformat_minor": 5
}
