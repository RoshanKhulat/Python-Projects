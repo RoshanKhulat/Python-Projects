{
 "cells": [
  {
   "cell_type": "markdown",
   "id": "8a01a4bd-e601-48b8-aacd-ef04ce4784b3",
   "metadata": {},
   "source": [
    "## First Session on Python\n",
    "## Conduct by M.S Vanthana\n",
    "## Date : 30th March 2024"
   ]
  },
  {
   "cell_type": "markdown",
   "id": "70abf519-054b-4ce4-b0db-cc57c12ed5c0",
   "metadata": {},
   "source": [
    "### Varibales"
   ]
  },
  {
   "cell_type": "code",
   "execution_count": 3,
   "id": "ec05614e-e880-4e23-9490-1296e2cfe466",
   "metadata": {},
   "outputs": [],
   "source": [
    "y = 12"
   ]
  },
  {
   "cell_type": "code",
   "execution_count": 10,
   "id": "83b8fc51-43a0-4aea-be79-0cbae373929d",
   "metadata": {},
   "outputs": [
    {
     "data": {
      "text/plain": [
       "int"
      ]
     },
     "execution_count": 10,
     "metadata": {},
     "output_type": "execute_result"
    }
   ],
   "source": [
    "type(y)"
   ]
  },
  {
   "cell_type": "code",
   "execution_count": 5,
   "id": "0f672b73-cf97-4fbe-ba13-180eb46ed452",
   "metadata": {},
   "outputs": [],
   "source": [
    "p = 43.21"
   ]
  },
  {
   "cell_type": "code",
   "execution_count": 2,
   "id": "9919a7ad-cd6a-421c-b382-ccfed4f65ef2",
   "metadata": {},
   "outputs": [
    {
     "data": {
      "text/plain": [
       "float"
      ]
     },
     "execution_count": 2,
     "metadata": {},
     "output_type": "execute_result"
    }
   ],
   "source": [
    "type(p)"
   ]
  },
  {
   "cell_type": "code",
   "execution_count": 3,
   "id": "608d625b-8350-4d7d-abe6-438cc669af7e",
   "metadata": {},
   "outputs": [],
   "source": [
    "str = \"Roshan\""
   ]
  },
  {
   "cell_type": "code",
   "execution_count": 4,
   "id": "7f1312c4-f5fd-4707-94db-a12c46d75a87",
   "metadata": {},
   "outputs": [
    {
     "data": {
      "text/plain": [
       "str"
      ]
     },
     "execution_count": 4,
     "metadata": {},
     "output_type": "execute_result"
    }
   ],
   "source": [
    "type(str)"
   ]
  },
  {
   "cell_type": "code",
   "execution_count": 5,
   "id": "9de1808e-e7ba-4a81-a52d-4aff4af39981",
   "metadata": {},
   "outputs": [],
   "source": [
    "x = type(p)"
   ]
  },
  {
   "cell_type": "code",
   "execution_count": 6,
   "id": "220428fe-c11e-4804-9737-8ea4502eb77f",
   "metadata": {},
   "outputs": [
    {
     "data": {
      "text/plain": [
       "float"
      ]
     },
     "execution_count": 6,
     "metadata": {},
     "output_type": "execute_result"
    }
   ],
   "source": [
    "x"
   ]
  },
  {
   "cell_type": "code",
   "execution_count": 7,
   "id": "328c3674-3ac6-409e-958c-cb108cff130d",
   "metadata": {},
   "outputs": [],
   "source": [
    "#Type Casting\n",
    "# int into float\n",
    "# float to int\n",
    "h = float(y)\n",
    "g = int(p)"
   ]
  },
  {
   "cell_type": "code",
   "execution_count": 12,
   "id": "2a9fb59c-deea-4a4a-a3d7-c5f9483345b1",
   "metadata": {},
   "outputs": [
    {
     "data": {
      "text/plain": [
       "12.0"
      ]
     },
     "execution_count": 12,
     "metadata": {},
     "output_type": "execute_result"
    }
   ],
   "source": [
    "h"
   ]
  },
  {
   "cell_type": "code",
   "execution_count": 13,
   "id": "27eae9aa-a75f-466e-be40-5dddc54f8379",
   "metadata": {},
   "outputs": [
    {
     "data": {
      "text/plain": [
       "43"
      ]
     },
     "execution_count": 13,
     "metadata": {},
     "output_type": "execute_result"
    }
   ],
   "source": [
    "g"
   ]
  },
  {
   "cell_type": "code",
   "execution_count": 8,
   "id": "306c0638-29f2-4d82-a05b-a0262b63ada7",
   "metadata": {},
   "outputs": [],
   "source": [
    "w = str(h)"
   ]
  },
  {
   "cell_type": "code",
   "execution_count": 9,
   "id": "c5681654-7708-4105-951c-d5f0f963b228",
   "metadata": {},
   "outputs": [
    {
     "data": {
      "text/plain": [
       "str"
      ]
     },
     "execution_count": 9,
     "metadata": {},
     "output_type": "execute_result"
    }
   ],
   "source": [
    "type(w)"
   ]
  },
  {
   "cell_type": "code",
   "execution_count": null,
   "id": "feb2b26f-f302-4776-94e9-44477da8ff39",
   "metadata": {},
   "outputs": [],
   "source": []
  }
 ],
 "metadata": {
  "kernelspec": {
   "display_name": "Python 3 (ipykernel)",
   "language": "python",
   "name": "python3"
  },
  "language_info": {
   "codemirror_mode": {
    "name": "ipython",
    "version": 3
   },
   "file_extension": ".py",
   "mimetype": "text/x-python",
   "name": "python",
   "nbconvert_exporter": "python",
   "pygments_lexer": "ipython3",
   "version": "3.11.7"
  }
 },
 "nbformat": 4,
 "nbformat_minor": 5
}
