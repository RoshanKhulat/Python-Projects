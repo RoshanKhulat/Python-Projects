{
 "cells": [
  {
   "cell_type": "markdown",
   "id": "72222e88-3338-4d52-a7ea-3e4d804270b6",
   "metadata": {},
   "source": [
    "### Date : 7th April 2024\n",
    "### Conduct By: M.S. Vanthana\n",
    "### Topic : Sets and Dictinaries"
   ]
  },
  {
   "cell_type": "markdown",
   "id": "68cf84cf-d4f2-4466-88dc-a55f61fdf53b",
   "metadata": {},
   "source": [
    "#### Set: it is the collection of unorderd elements, we can not access the set element by index \n",
    "####      dont allow Duplicates "
   ]
  },
  {
   "cell_type": "code",
   "execution_count": 1,
   "id": "cb108932-cbc3-4328-843b-7273dce68ef2",
   "metadata": {},
   "outputs": [],
   "source": [
    "# Set Syntax : \n",
    "simple_set = {\"Roshan\",True,42.31,\"Change\",'A+'}"
   ]
  },
  {
   "cell_type": "code",
   "execution_count": 2,
   "id": "bab8a630-9216-4dca-a59d-03773424b86c",
   "metadata": {},
   "outputs": [
    {
     "data": {
      "text/plain": [
       "{42.31, 'A+', 'Change', 'Roshan', True}"
      ]
     },
     "execution_count": 2,
     "metadata": {},
     "output_type": "execute_result"
    }
   ],
   "source": [
    "simple_set"
   ]
  },
  {
   "cell_type": "code",
   "execution_count": 3,
   "id": "f27184d1-637e-4a85-8746-01c8f5b2f934",
   "metadata": {},
   "outputs": [],
   "source": [
    "exception_set = {True,\"Set\",1}"
   ]
  },
  {
   "cell_type": "code",
   "execution_count": 4,
   "id": "ae49d121-7fb7-4c6a-b6ab-9771f6b0bedf",
   "metadata": {},
   "outputs": [
    {
     "data": {
      "text/plain": [
       "{'Set', True}"
      ]
     },
     "execution_count": 4,
     "metadata": {},
     "output_type": "execute_result"
    }
   ],
   "source": [
    "exception_set"
   ]
  },
  {
   "cell_type": "markdown",
   "id": "b4fa7ac6-65bb-4c7f-bee7-603395257edc",
   "metadata": {},
   "source": [
    "###### Note : We can Access the elements of Sets using iteratting. usong for loop"
   ]
  },
  {
   "cell_type": "markdown",
   "id": "64a00108-8ef4-4e59-b066-5c407da5ea23",
   "metadata": {},
   "source": [
    "#### Set : We can add and remove the Elements from  the set {}. can't access element by index like set[0]\n",
    "#### Tuple : We can't add and remove anyting (). we can access the element by index like tuple[2]"
   ]
  },
  {
   "cell_type": "markdown",
   "id": "10c1a547-133d-4bac-b5f2-cde85b80e0b8",
   "metadata": {},
   "source": [
    "##### Sets methods :\n",
    "##### 1) add() : this method is use for add single element\n",
    "##### 2) update() : to join/combine tow sets we can use this method"
   ]
  },
  {
   "cell_type": "code",
   "execution_count": 5,
   "id": "fc2fff86-6fa0-484b-bfae-9d5bd024c366",
   "metadata": {},
   "outputs": [],
   "source": [
    "simple_set.add(78)"
   ]
  },
  {
   "cell_type": "code",
   "execution_count": 6,
   "id": "7f2c6395-8187-4beb-83db-42451705ee55",
   "metadata": {},
   "outputs": [
    {
     "data": {
      "text/plain": [
       "{42.31, 78, 'A+', 'Change', 'Roshan', True}"
      ]
     },
     "execution_count": 6,
     "metadata": {},
     "output_type": "execute_result"
    }
   ],
   "source": [
    "simple_set"
   ]
  },
  {
   "cell_type": "code",
   "execution_count": 7,
   "id": "5cb1eaf5-ce1a-48fc-901d-24d8531ebbb2",
   "metadata": {},
   "outputs": [],
   "source": [
    "# combine simple_set and exception_set : add elements of exception_set into simple_set\n",
    "simple_set.update(exception_set)"
   ]
  },
  {
   "cell_type": "code",
   "execution_count": 8,
   "id": "df84a260-0990-4d89-aee7-2df5c6201146",
   "metadata": {},
   "outputs": [
    {
     "data": {
      "text/plain": [
       "{42.31, 78, 'A+', 'Change', 'Roshan', 'Set', True}"
      ]
     },
     "execution_count": 8,
     "metadata": {},
     "output_type": "execute_result"
    }
   ],
   "source": [
    "simple_set"
   ]
  },
  {
   "cell_type": "markdown",
   "id": "470de8d5-05fe-4298-9c6f-f787b8435f83",
   "metadata": {},
   "source": [
    "#### Removing Elements from Sets \n",
    "##### 1) discard() : dont' show any error if the 'elements for remove'  is not present\n",
    "##### 2) remove() : Showing error when the 'elements want to remove' is not present"
   ]
  },
  {
   "cell_type": "code",
   "execution_count": 9,
   "id": "358762b3-4f08-40ce-acb9-3390a1ecd885",
   "metadata": {},
   "outputs": [],
   "source": [
    "Set_1 = {\"Apple\",\"Pinapple\",\"Banana\",\"Cherry\"}\n",
    "\n",
    "Set_1.discard(\"Roshan\")"
   ]
  },
  {
   "cell_type": "code",
   "execution_count": 10,
   "id": "6f7a4d5d-84a7-4baa-9812-1ccb4e8335df",
   "metadata": {},
   "outputs": [
    {
     "ename": "KeyError",
     "evalue": "'king'",
     "output_type": "error",
     "traceback": [
      "\u001b[1;31m---------------------------------------------------------------------------\u001b[0m",
      "\u001b[1;31mKeyError\u001b[0m                                  Traceback (most recent call last)",
      "Cell \u001b[1;32mIn[10], line 1\u001b[0m\n\u001b[1;32m----> 1\u001b[0m Set_1\u001b[38;5;241m.\u001b[39mremove(\u001b[38;5;124m\"\u001b[39m\u001b[38;5;124mking\u001b[39m\u001b[38;5;124m\"\u001b[39m)\n",
      "\u001b[1;31mKeyError\u001b[0m: 'king'"
     ]
    }
   ],
   "source": [
    "Set_1.remove(\"king\")"
   ]
  },
  {
   "cell_type": "markdown",
   "id": "081bf179-c3e2-4da3-b4e3-7a63f4e340ec",
   "metadata": {},
   "source": [
    "### Joining more than two Sets \n",
    "### Syntax : set1 | set2 | set3..."
   ]
  },
  {
   "cell_type": "code",
   "execution_count": 11,
   "id": "fed9df46-c6d5-40c8-93a3-47c8feb363f4",
   "metadata": {},
   "outputs": [],
   "source": [
    "Set_One = {\"Roshan\",\"Learning\",7845}\n",
    "Set_two = {\"xyz\",11.23,True}\n",
    "Set_three = {45.31,\"Question\",False}\n",
    "\n",
    "Set_four = Set_One | Set_two | Set_three"
   ]
  },
  {
   "cell_type": "code",
   "execution_count": 12,
   "id": "43e46a06-f984-4117-9165-6cdbd31e7353",
   "metadata": {},
   "outputs": [
    {
     "data": {
      "text/plain": [
       "{11.23, 45.31, 7845, False, 'Learning', 'Question', 'Roshan', True, 'xyz'}"
      ]
     },
     "execution_count": 12,
     "metadata": {},
     "output_type": "execute_result"
    }
   ],
   "source": [
    "Set_four"
   ]
  },
  {
   "cell_type": "markdown",
   "id": "cb8d28da-e7c4-4d41-8e2b-0984b964b3b3",
   "metadata": {},
   "source": [
    "## While loop"
   ]
  },
  {
   "cell_type": "code",
   "execution_count": 13,
   "id": "60677193-7532-4767-88a2-2a6540f7512f",
   "metadata": {},
   "outputs": [
    {
     "name": "stdout",
     "output_type": "stream",
     "text": [
      "1\n",
      "2\n",
      "3\n",
      "4\n",
      "5\n",
      "6\n"
     ]
    }
   ],
   "source": [
    "i = 0;\n",
    "while i< 6:\n",
    "    i += 1\n",
    "    print(i)"
   ]
  },
  {
   "cell_type": "code",
   "execution_count": 14,
   "id": "8e364f80-980e-4d51-9907-4ca8ebd451e7",
   "metadata": {},
   "outputs": [
    {
     "name": "stdout",
     "output_type": "stream",
     "text": [
      "7\n",
      "9\n",
      "11\n"
     ]
    }
   ],
   "source": [
    "i = 5;\n",
    "while i< 10:\n",
    "    i += 2\n",
    "    print(i)"
   ]
  },
  {
   "cell_type": "markdown",
   "id": "a933ff29-4241-4f5a-94c4-dbcc4dd02b12",
   "metadata": {},
   "source": [
    "#### Break and Continue"
   ]
  },
  {
   "cell_type": "code",
   "execution_count": 1,
   "id": "de456be5-183b-4572-b516-1575aa753b41",
   "metadata": {},
   "outputs": [
    {
     "name": "stdout",
     "output_type": "stream",
     "text": [
      "1\n",
      "2\n",
      "3\n",
      "4\n",
      "5\n"
     ]
    }
   ],
   "source": [
    "# break\n",
    "i = 0;\n",
    "while i< 6:\n",
    "    if i == 5:\n",
    "        break;\n",
    "    i += 1\n",
    "    print(i)"
   ]
  },
  {
   "cell_type": "code",
   "execution_count": 3,
   "id": "3cec388d-4401-4eb2-90b7-9c032e396f66",
   "metadata": {},
   "outputs": [
    {
     "name": "stdout",
     "output_type": "stream",
     "text": [
      "1\n",
      "2\n",
      "3\n",
      "5\n",
      "6\n",
      "7\n",
      "8\n",
      "9\n",
      "10\n"
     ]
    }
   ],
   "source": [
    "# contiue \n",
    "u = 0;\n",
    "while u< 10:\n",
    "    u += 1\n",
    "    if u == 4:\n",
    "        continue;\n",
    "   \n",
    "    print(u)"
   ]
  },
  {
   "cell_type": "markdown",
   "id": "68eac0ad-044a-4738-805b-597eb01de14e",
   "metadata": {},
   "source": [
    "# Dictonaries"
   ]
  },
  {
   "cell_type": "code",
   "execution_count": 4,
   "id": "d7835740-30a4-46d0-a8ce-4b512d757171",
   "metadata": {},
   "outputs": [
    {
     "data": {
      "text/plain": [
       "dict"
      ]
     },
     "execution_count": 4,
     "metadata": {},
     "output_type": "execute_result"
    }
   ],
   "source": [
    "# it is store the the value as key-value pair \n",
    "Person = {\"Name\": \"Roshan\",\n",
    "          \"Age\": 26,\n",
    "          \"Location\":\"India\"}\n",
    "\n",
    "type(Person)"
   ]
  },
  {
   "cell_type": "code",
   "execution_count": 8,
   "id": "e88c9426-3d2d-428c-95c9-216131e7c3cd",
   "metadata": {},
   "outputs": [
    {
     "data": {
      "text/plain": [
       "{'Name': 'Roshan', 'Age': 26, 'Location': 'India'}"
      ]
     },
     "execution_count": 8,
     "metadata": {},
     "output_type": "execute_result"
    }
   ],
   "source": [
    "Person"
   ]
  },
  {
   "cell_type": "code",
   "execution_count": 9,
   "id": "1bd52f35-fb74-45de-9b6f-1645be0a04de",
   "metadata": {},
   "outputs": [
    {
     "data": {
      "text/plain": [
       "3"
      ]
     },
     "execution_count": 9,
     "metadata": {},
     "output_type": "execute_result"
    }
   ],
   "source": [
    "len(Person)"
   ]
  },
  {
   "cell_type": "code",
   "execution_count": 10,
   "id": "cc771e37-11f8-4fc2-a81b-da6dddf594a9",
   "metadata": {},
   "outputs": [
    {
     "data": {
      "text/plain": [
       "dict_keys(['Name', 'Age', 'Location'])"
      ]
     },
     "execution_count": 10,
     "metadata": {},
     "output_type": "execute_result"
    }
   ],
   "source": [
    "Person.keys()"
   ]
  },
  {
   "cell_type": "code",
   "execution_count": 11,
   "id": "b6cb7786-4437-4e40-b2ba-39711488c626",
   "metadata": {},
   "outputs": [
    {
     "data": {
      "text/plain": [
       "dict_values(['Roshan', 26, 'India'])"
      ]
     },
     "execution_count": 11,
     "metadata": {},
     "output_type": "execute_result"
    }
   ],
   "source": [
    "Person.values()"
   ]
  },
  {
   "cell_type": "code",
   "execution_count": 12,
   "id": "6916f1c7-29d5-41da-8a14-9635e0f9bf11",
   "metadata": {},
   "outputs": [
    {
     "data": {
      "text/plain": [
       "dict_items([('Name', 'Roshan'), ('Age', 26), ('Location', 'India')])"
      ]
     },
     "execution_count": 12,
     "metadata": {},
     "output_type": "execute_result"
    }
   ],
   "source": [
    "Person.items()"
   ]
  },
  {
   "cell_type": "code",
   "execution_count": 14,
   "id": "fc69c18d-3a71-4306-8a1c-5c574b0a8b03",
   "metadata": {},
   "outputs": [],
   "source": [
    "edu_list = [\"B.Sc (cs)\",\"M.Sc (cs)\"]\n",
    "\n",
    "Person[\"education\"] = edu_list"
   ]
  },
  {
   "cell_type": "code",
   "execution_count": 16,
   "id": "b2c4cc63-737c-4488-b789-af9dbef5db40",
   "metadata": {},
   "outputs": [
    {
     "data": {
      "text/plain": [
       "{'Name': 'Roshan',\n",
       " 'Age': 26,\n",
       " 'Location': 'India',\n",
       " 'education': ['B.Sc (cs)', 'M.Sc (cs)']}"
      ]
     },
     "execution_count": 16,
     "metadata": {},
     "output_type": "execute_result"
    }
   ],
   "source": [
    "Person"
   ]
  },
  {
   "cell_type": "code",
   "execution_count": 28,
   "id": "b11cd556-f8c3-4a05-b6ee-529ed7901e1e",
   "metadata": {},
   "outputs": [],
   "source": [
    "education2 = Person[\"education\"]"
   ]
  },
  {
   "cell_type": "code",
   "execution_count": 29,
   "id": "92b832ed-9140-4738-95a6-cfb780d6761c",
   "metadata": {},
   "outputs": [
    {
     "data": {
      "text/plain": [
       "'M.Sc (cs)'"
      ]
     },
     "execution_count": 29,
     "metadata": {},
     "output_type": "execute_result"
    }
   ],
   "source": [
    "education2[1]"
   ]
  },
  {
   "cell_type": "code",
   "execution_count": 40,
   "id": "05bc5424-4243-4de1-9881-a83832f494be",
   "metadata": {},
   "outputs": [],
   "source": [
    "list = Person['education'][1]"
   ]
  },
  {
   "cell_type": "code",
   "execution_count": 38,
   "id": "664c4f75-7be8-4f57-b8d4-cb87185392c2",
   "metadata": {},
   "outputs": [
    {
     "data": {
      "text/plain": [
       "'M.Sc (cs)'"
      ]
     },
     "execution_count": 38,
     "metadata": {},
     "output_type": "execute_result"
    }
   ],
   "source": [
    "list[1]"
   ]
  },
  {
   "cell_type": "markdown",
   "id": "fb04c917-7089-4d35-a2c9-675e2f7ce415",
   "metadata": {},
   "source": [
    "### Looping over Dict"
   ]
  },
  {
   "cell_type": "code",
   "execution_count": 41,
   "id": "8b35ed2f-93e4-43be-81d6-74fafe423be0",
   "metadata": {},
   "outputs": [
    {
     "name": "stdout",
     "output_type": "stream",
     "text": [
      "Name\n",
      "Age\n",
      "Location\n",
      "education\n"
     ]
    }
   ],
   "source": [
    "for key in Person.keys():\n",
    "    print(key)"
   ]
  },
  {
   "cell_type": "code",
   "execution_count": 42,
   "id": "341fd4cc-cc15-4fef-bce1-f1407970dc2e",
   "metadata": {},
   "outputs": [
    {
     "name": "stdout",
     "output_type": "stream",
     "text": [
      "Roshan\n",
      "26\n",
      "India\n",
      "['B.Sc (cs)', 'M.Sc (cs)']\n"
     ]
    }
   ],
   "source": [
    "for val in Person.values():\n",
    "    print(val)"
   ]
  },
  {
   "cell_type": "code",
   "execution_count": 43,
   "id": "90d570c2-142c-4a4f-a718-a8a0f1a43689",
   "metadata": {},
   "outputs": [
    {
     "name": "stdout",
     "output_type": "stream",
     "text": [
      "('Name', 'Roshan')\n",
      "('Age', 26)\n",
      "('Location', 'India')\n",
      "('education', ['B.Sc (cs)', 'M.Sc (cs)'])\n"
     ]
    }
   ],
   "source": [
    "for item in Person.items():\n",
    "    print(item)"
   ]
  },
  {
   "cell_type": "code",
   "execution_count": 45,
   "id": "dbf6f89a-304a-4976-9c44-56ebbcab0a77",
   "metadata": {},
   "outputs": [
    {
     "name": "stdout",
     "output_type": "stream",
     "text": [
      "Name  :  Roshan\n",
      "Age  :  26\n",
      "Location  :  India\n",
      "education  :  ['B.Sc (cs)', 'M.Sc (cs)']\n"
     ]
    }
   ],
   "source": [
    "for key in Person:\n",
    "    print(key,\" : \",Person[key])\n",
    "    "
   ]
  },
  {
   "cell_type": "code",
   "execution_count": 49,
   "id": "ace242b5-ee0d-4605-b381-e14e0897890c",
   "metadata": {},
   "outputs": [
    {
     "name": "stdout",
     "output_type": "stream",
     "text": [
      "['name_PQR', 'name_SQR', 'name_WQR']\n",
      "['age_26', 'age_30', 'age_24']\n"
     ]
    }
   ],
   "source": [
    "Dict_2 = {\n",
    "    \"PQR\":26,\n",
    "    \"SQR\":30,\n",
    "    \"WQR\":24\n",
    "}\n",
    "\n",
    "name = []\n",
    "age = []\n",
    "for  key,val in Dict_2.items():\n",
    "    key = \"name_\"+key\n",
    "    val = \"age_\"+str(val)\n",
    "    name.append(key)\n",
    "    age.append(val)\n",
    "\n",
    "print(name)\n",
    "print(age)"
   ]
  },
  {
   "cell_type": "code",
   "execution_count": null,
   "id": "923bc967-05c6-4451-962f-69693522c737",
   "metadata": {},
   "outputs": [],
   "source": []
  }
 ],
 "metadata": {
  "kernelspec": {
   "display_name": "Python 3 (ipykernel)",
   "language": "python",
   "name": "python3"
  },
  "language_info": {
   "codemirror_mode": {
    "name": "ipython",
    "version": 3
   },
   "file_extension": ".py",
   "mimetype": "text/x-python",
   "name": "python",
   "nbconvert_exporter": "python",
   "pygments_lexer": "ipython3",
   "version": "3.11.7"
  }
 },
 "nbformat": 4,
 "nbformat_minor": 5
}
