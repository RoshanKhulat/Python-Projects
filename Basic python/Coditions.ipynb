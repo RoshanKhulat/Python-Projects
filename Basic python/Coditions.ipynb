{
 "cells": [
  {
   "cell_type": "markdown",
   "id": "e29a69a9-19f4-43fa-9a02-2aaca4c59f63",
   "metadata": {},
   "source": [
    "### Date : 30th March 2024\n",
    "### Conduct by : M.S. Vanthana\n",
    "### IF-Else Statements"
   ]
  },
  {
   "cell_type": "code",
   "execution_count": 1,
   "id": "946c7dc5-4a3b-425e-94d6-ba902171e181",
   "metadata": {},
   "outputs": [
    {
     "name": "stdin",
     "output_type": "stream",
     "text": [
      "Enter the First Number:  45\n",
      "Enter the Second Number:  65\n"
     ]
    },
    {
     "name": "stdout",
     "output_type": "stream",
     "text": [
      "65 is greater than 45\n"
     ]
    }
   ],
   "source": [
    "num1 = int(input(\"Enter the First Number: \"))\n",
    "num2 = int(input(\"Enter the Second Number: \"))\n",
    "if num1>num2:\n",
    "    print(\"{} is greater than {}\".format(num1,num2))\n",
    "else:\n",
    "    print(\"{} is greater than {}\".format(num2,num1))"
   ]
  },
  {
   "cell_type": "code",
   "execution_count": 2,
   "id": "0f97c746-1858-4316-99d2-c835d7e42a78",
   "metadata": {},
   "outputs": [
    {
     "name": "stdin",
     "output_type": "stream",
     "text": [
      "Enter the marks :  45\n"
     ]
    },
    {
     "name": "stdout",
     "output_type": "stream",
     "text": [
      "A Grade\n"
     ]
    }
   ],
   "source": [
    "# elif\n",
    "marks  = int(input(\"Enter the marks : \"))\n",
    "\n",
    "if marks >= 70:\n",
    "    print(\"A+ Grade\")\n",
    "elif marks <= 70 or marks >= 50:\n",
    "    print(\"A Grade\")\n",
    "elif marks <50 or marks >=35:\n",
    "    print(\"Pass\")\n",
    "else:\n",
    "    print(\"Fail\")\n"
   ]
  },
  {
   "cell_type": "code",
   "execution_count": 13,
   "id": "07c6efa6-9ebd-4475-b3ae-f89d3cbcd383",
   "metadata": {},
   "outputs": [
    {
     "name": "stdin",
     "output_type": "stream",
     "text": [
      "Enter your income 50001\n"
     ]
    },
    {
     "name": "stdout",
     "output_type": "stream",
     "text": [
      "tab slap is 15%\n"
     ]
    }
   ],
   "source": [
    "base_income = 50000\n",
    "your_income = int(input(\"Enter your income\"))\n",
    "\n",
    "if your_income > (base_income * 2):\n",
    "    print(\"tab slap is 28%\")\n",
    "elif your_income  > base_income:\n",
    "    print(\"tab slap is 15%\")\n",
    "elif your_income < base_income:\n",
    "    print(\"no tax\")\n",
    "\n"
   ]
  },
  {
   "cell_type": "code",
   "execution_count": null,
   "id": "34d545d2-7ec6-4f94-aabd-9261a5ff280d",
   "metadata": {},
   "outputs": [],
   "source": []
  }
 ],
 "metadata": {
  "kernelspec": {
   "display_name": "Python 3 (ipykernel)",
   "language": "python",
   "name": "python3"
  },
  "language_info": {
   "codemirror_mode": {
    "name": "ipython",
    "version": 3
   },
   "file_extension": ".py",
   "mimetype": "text/x-python",
   "name": "python",
   "nbconvert_exporter": "python",
   "pygments_lexer": "ipython3",
   "version": "3.11.7"
  }
 },
 "nbformat": 4,
 "nbformat_minor": 5
}
