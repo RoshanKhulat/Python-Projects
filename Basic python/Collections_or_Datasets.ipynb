{
 "cells": [
  {
   "cell_type": "markdown",
   "id": "ac9a49b7-5a35-475d-ab17-cfd61ca59074",
   "metadata": {},
   "source": [
    "#### Date : 1st April 2024\n",
    "#### Author : Roshan Ashok Khulat \n",
    "#### Topics : List, Tuples, If- else "
   ]
  },
  {
   "cell_type": "code",
   "execution_count": 56,
   "id": "1f035798-854f-42ac-9637-4fa684f3a3df",
   "metadata": {},
   "outputs": [
    {
     "name": "stdout",
     "output_type": "stream",
     "text": [
      "['item1', 'item2', 203, 784.23, 'ALPHA', 'Diplicates allowed', 'Editable']\n",
      "('april', 'may', 'june', 'july')\n"
     ]
    }
   ],
   "source": [
    "list_one = [\"item1\",\"item2\",203,784.23,\"ALPHA\",\"Diplicates allowed\",\"Editable\"]\n",
    "tuple_one = (\"april\",\"may\",\"june\",\"july\")\n",
    "print(list_one)\n",
    "print(tuple_one)"
   ]
  },
  {
   "cell_type": "code",
   "execution_count": 74,
   "id": "4346c3ac-e98a-490f-a331-cf0976ad5e4f",
   "metadata": {},
   "outputs": [],
   "source": [
    "list_one[3] = \"Beta\""
   ]
  },
  {
   "cell_type": "code",
   "execution_count": 15,
   "id": "8b16996f-2e28-42c1-a797-a27a9fdc8a49",
   "metadata": {},
   "outputs": [
    {
     "data": {
      "text/plain": [
       "203"
      ]
     },
     "execution_count": 15,
     "metadata": {},
     "output_type": "execute_result"
    }
   ],
   "source": [
    "list_one[2]"
   ]
  },
  {
   "cell_type": "code",
   "execution_count": 75,
   "id": "6d40c62f-d5db-4d29-a3e6-b4a43ccd7778",
   "metadata": {},
   "outputs": [
    {
     "data": {
      "text/plain": [
       "['item1', 'item2', 203, 'Beta', 'ALPHA', 'Diplicates allowed', 'Editable']"
      ]
     },
     "execution_count": 75,
     "metadata": {},
     "output_type": "execute_result"
    }
   ],
   "source": [
    "list_one"
   ]
  },
  {
   "cell_type": "code",
   "execution_count": 16,
   "id": "a4252919-8238-4e36-a917-ef801e40a265",
   "metadata": {},
   "outputs": [],
   "source": [
    "list_one.append(\"Square Brackets\")"
   ]
  },
  {
   "cell_type": "code",
   "execution_count": 17,
   "id": "805bcd8a-d4ff-4020-9f01-caffc3a11914",
   "metadata": {},
   "outputs": [
    {
     "data": {
      "text/plain": [
       "['item1',\n",
       " 'item2',\n",
       " 203,\n",
       " 784.23,\n",
       " 'ALPHA',\n",
       " 'Diplicates allowed',\n",
       " 'Editable',\n",
       " 'Square Brackets']"
      ]
     },
     "execution_count": 17,
     "metadata": {},
     "output_type": "execute_result"
    }
   ],
   "source": [
    "list_one"
   ]
  },
  {
   "cell_type": "code",
   "execution_count": 18,
   "id": "51b767b1-4315-48f6-b6fe-3c1c86c2767f",
   "metadata": {},
   "outputs": [],
   "source": [
    "list_two = [7,9,4,5,6,1,6,7,4]"
   ]
  },
  {
   "cell_type": "code",
   "execution_count": 19,
   "id": "ccbdbe88-68fa-4623-b45b-f1a8f3d570bd",
   "metadata": {},
   "outputs": [
    {
     "data": {
      "text/plain": [
       "[7, 9, 4, 5, 6, 1, 6, 7, 4]"
      ]
     },
     "execution_count": 19,
     "metadata": {},
     "output_type": "execute_result"
    }
   ],
   "source": [
    "list_two"
   ]
  },
  {
   "cell_type": "code",
   "execution_count": 20,
   "id": "149af9eb-b67a-44f9-b546-a9a3d1bba347",
   "metadata": {},
   "outputs": [],
   "source": [
    "list_two.insert(0,\"Adding Value\")"
   ]
  },
  {
   "cell_type": "code",
   "execution_count": 21,
   "id": "b945b72a-2501-4016-883b-9e486b1300bc",
   "metadata": {},
   "outputs": [
    {
     "data": {
      "text/plain": [
       "['Adding Value', 7, 9, 4, 5, 6, 1, 6, 7, 4]"
      ]
     },
     "execution_count": 21,
     "metadata": {},
     "output_type": "execute_result"
    }
   ],
   "source": [
    "list_two"
   ]
  },
  {
   "cell_type": "code",
   "execution_count": 40,
   "id": "e074ab8f-48ee-401f-999b-2fc69616f9a2",
   "metadata": {},
   "outputs": [
    {
     "name": "stdout",
     "output_type": "stream",
     "text": [
      "['item1', 'item2', 203, 784.23, 'ALPHA', 'Diplicates allowed', 'Editable', 'Square Brackets', 'Adding Value', 7, 9, 4, 5, 6, 1, 6, 7, 4]\n"
     ]
    }
   ],
   "source": [
    "# Join Two List \n",
    "list_3 = list_one + list_two\n",
    "print(list_3)"
   ]
  },
  {
   "cell_type": "code",
   "execution_count": 41,
   "id": "9aa8974e-b29a-4e28-a329-2cc4febee684",
   "metadata": {},
   "outputs": [],
   "source": [
    "# remove the element by Value \n",
    "list_3.remove(\"item2\")"
   ]
  },
  {
   "cell_type": "code",
   "execution_count": 42,
   "id": "7db25c73-4a05-4d80-9d5b-1d12e49b2e7a",
   "metadata": {},
   "outputs": [
    {
     "data": {
      "text/plain": [
       "['item1',\n",
       " 203,\n",
       " 784.23,\n",
       " 'ALPHA',\n",
       " 'Diplicates allowed',\n",
       " 'Editable',\n",
       " 'Square Brackets',\n",
       " 'Adding Value',\n",
       " 7,\n",
       " 9,\n",
       " 4,\n",
       " 5,\n",
       " 6,\n",
       " 1,\n",
       " 6,\n",
       " 7,\n",
       " 4]"
      ]
     },
     "execution_count": 42,
     "metadata": {},
     "output_type": "execute_result"
    }
   ],
   "source": [
    "list_3"
   ]
  },
  {
   "cell_type": "code",
   "execution_count": 43,
   "id": "d5fc2d26-3ce3-4161-8355-1b78376e657f",
   "metadata": {},
   "outputs": [
    {
     "data": {
      "text/plain": [
       "7"
      ]
     },
     "execution_count": 43,
     "metadata": {},
     "output_type": "execute_result"
    }
   ],
   "source": [
    "# remove element by index \n",
    "list_3.pop(8)"
   ]
  },
  {
   "cell_type": "code",
   "execution_count": 29,
   "id": "3f97ce6f-13bb-4f41-b2b3-070fa12b4ddf",
   "metadata": {},
   "outputs": [
    {
     "data": {
      "text/plain": [
       "['item1',\n",
       " 203,\n",
       " 784.23,\n",
       " 'ALPHA',\n",
       " 'Diplicates allowed',\n",
       " 'Editable',\n",
       " 'Square Brackets',\n",
       " 'Adding Value',\n",
       " 9,\n",
       " 4,\n",
       " 5,\n",
       " 6,\n",
       " 1,\n",
       " 6,\n",
       " 7,\n",
       " 4]"
      ]
     },
     "execution_count": 29,
     "metadata": {},
     "output_type": "execute_result"
    }
   ],
   "source": [
    "list_3"
   ]
  },
  {
   "cell_type": "code",
   "execution_count": 30,
   "id": "da583d65-e207-4868-b078-96e8d81cd873",
   "metadata": {},
   "outputs": [
    {
     "data": {
      "text/plain": [
       "5"
      ]
     },
     "execution_count": 30,
     "metadata": {},
     "output_type": "execute_result"
    }
   ],
   "source": [
    "list_3[10]"
   ]
  },
  {
   "cell_type": "code",
   "execution_count": 31,
   "id": "eec2db61-06dc-4ce1-95cc-b748d7bd6660",
   "metadata": {},
   "outputs": [],
   "source": [
    "del list_3[10]"
   ]
  },
  {
   "cell_type": "code",
   "execution_count": 32,
   "id": "5d7b2754-ab05-4cd4-a143-26e6f4d9bf9d",
   "metadata": {},
   "outputs": [
    {
     "data": {
      "text/plain": [
       "['item1',\n",
       " 203,\n",
       " 784.23,\n",
       " 'ALPHA',\n",
       " 'Diplicates allowed',\n",
       " 'Editable',\n",
       " 'Square Brackets',\n",
       " 'Adding Value',\n",
       " 9,\n",
       " 4,\n",
       " 6,\n",
       " 1,\n",
       " 6,\n",
       " 7,\n",
       " 4]"
      ]
     },
     "execution_count": 32,
     "metadata": {},
     "output_type": "execute_result"
    }
   ],
   "source": [
    "list_3"
   ]
  },
  {
   "cell_type": "code",
   "execution_count": 37,
   "id": "25e7b5c6-270f-47b3-8740-98c15549c58f",
   "metadata": {},
   "outputs": [],
   "source": [
    "del list_3"
   ]
  },
  {
   "cell_type": "code",
   "execution_count": 44,
   "id": "4932ff69-e8ec-4c2a-a7a4-23010911b0f1",
   "metadata": {},
   "outputs": [
    {
     "data": {
      "text/plain": [
       "['item1',\n",
       " 203,\n",
       " 784.23,\n",
       " 'ALPHA',\n",
       " 'Diplicates allowed',\n",
       " 'Editable',\n",
       " 'Square Brackets',\n",
       " 'Adding Value',\n",
       " 9,\n",
       " 4,\n",
       " 5,\n",
       " 6,\n",
       " 1,\n",
       " 6,\n",
       " 7,\n",
       " 4]"
      ]
     },
     "execution_count": 44,
     "metadata": {},
     "output_type": "execute_result"
    }
   ],
   "source": [
    "list_3"
   ]
  },
  {
   "cell_type": "code",
   "execution_count": 45,
   "id": "5d3b7002-e5e4-4ce8-b6d4-27d5902c22cb",
   "metadata": {},
   "outputs": [
    {
     "data": {
      "text/plain": [
       "('april', 'may', 'june', 'july')"
      ]
     },
     "execution_count": 45,
     "metadata": {},
     "output_type": "execute_result"
    }
   ],
   "source": [
    "tuple_one"
   ]
  },
  {
   "cell_type": "code",
   "execution_count": 48,
   "id": "98689a77-14df-43ef-9656-e00eaecc4d08",
   "metadata": {},
   "outputs": [
    {
     "data": {
      "text/plain": [
       "'april'"
      ]
     },
     "execution_count": 48,
     "metadata": {},
     "output_type": "execute_result"
    }
   ],
   "source": [
    "tuple_one[0]"
   ]
  },
  {
   "cell_type": "code",
   "execution_count": 49,
   "id": "8979eedc-e43e-4bab-9195-d57033b71772",
   "metadata": {},
   "outputs": [
    {
     "data": {
      "text/plain": [
       "'may'"
      ]
     },
     "execution_count": 49,
     "metadata": {},
     "output_type": "execute_result"
    }
   ],
   "source": [
    "tuple_one[1]"
   ]
  },
  {
   "cell_type": "code",
   "execution_count": 50,
   "id": "271761dd-5876-4620-be37-614f254c6637",
   "metadata": {},
   "outputs": [
    {
     "data": {
      "text/plain": [
       "'y'"
      ]
     },
     "execution_count": 50,
     "metadata": {},
     "output_type": "execute_result"
    }
   ],
   "source": [
    "tuple_one[1][2]"
   ]
  },
  {
   "cell_type": "code",
   "execution_count": 51,
   "id": "7b92d652-0af2-43e6-a8f7-610d254cefb8",
   "metadata": {},
   "outputs": [
    {
     "data": {
      "text/plain": [
       "'july'"
      ]
     },
     "execution_count": 51,
     "metadata": {},
     "output_type": "execute_result"
    }
   ],
   "source": [
    "tuple_one[-1]"
   ]
  },
  {
   "cell_type": "code",
   "execution_count": 54,
   "id": "22425efd-520d-4e2e-adf4-a4d395b5f0c3",
   "metadata": {},
   "outputs": [],
   "source": [
    "del tuple_one"
   ]
  },
  {
   "cell_type": "code",
   "execution_count": 57,
   "id": "f911be8d-0dd0-4b22-a793-51d859930d3e",
   "metadata": {},
   "outputs": [
    {
     "data": {
      "text/plain": [
       "('april', 'may', 'june', 'july')"
      ]
     },
     "execution_count": 57,
     "metadata": {},
     "output_type": "execute_result"
    }
   ],
   "source": [
    "tuple_one"
   ]
  },
  {
   "cell_type": "code",
   "execution_count": 58,
   "id": "ebe75fd2-de2c-4a14-8495-6ebed4dd69fc",
   "metadata": {},
   "outputs": [],
   "source": [
    "tuple_two = \"dream\",\"test\",\"found\""
   ]
  },
  {
   "cell_type": "code",
   "execution_count": 59,
   "id": "39fa5ed9-e9d4-4c2d-999d-e4626b8f2578",
   "metadata": {},
   "outputs": [
    {
     "data": {
      "text/plain": [
       "('dream', 'test', 'found')"
      ]
     },
     "execution_count": 59,
     "metadata": {},
     "output_type": "execute_result"
    }
   ],
   "source": [
    "tuple_two"
   ]
  },
  {
   "cell_type": "code",
   "execution_count": 69,
   "id": "173737a2-0324-4b2b-839e-0de52785a54f",
   "metadata": {},
   "outputs": [],
   "source": [
    "tuple_3 = tuple_one + tuple_two"
   ]
  },
  {
   "cell_type": "code",
   "execution_count": 61,
   "id": "5bb0b5ae-c4ae-45fc-8994-f99a0c44045d",
   "metadata": {},
   "outputs": [
    {
     "data": {
      "text/plain": [
       "('april', 'may', 'june', 'july', 'dream', 'test', 'found')"
      ]
     },
     "execution_count": 61,
     "metadata": {},
     "output_type": "execute_result"
    }
   ],
   "source": [
    "tuple_3"
   ]
  },
  {
   "cell_type": "code",
   "execution_count": 67,
   "id": "b068ccd1-09e9-43fd-b690-d81e5f1a56b8",
   "metadata": {},
   "outputs": [
    {
     "data": {
      "text/plain": [
       "'y'"
      ]
     },
     "execution_count": 67,
     "metadata": {},
     "output_type": "execute_result"
    }
   ],
   "source": [
    "tuple_3[1][2]"
   ]
  },
  {
   "cell_type": "code",
   "execution_count": 73,
   "id": "8dda9845-8eb2-4172-be60-e20543f60540",
   "metadata": {},
   "outputs": [
    {
     "name": "stdout",
     "output_type": "stream",
     "text": [
      "april\n",
      "may\n",
      "june\n",
      "july\n",
      "dream\n",
      "test\n",
      "found\n"
     ]
    }
   ],
   "source": [
    "# For loop \n",
    "# We use for loop on datasets or on collections the syntax of for loop is \n",
    "# for key in Statements :\n",
    "#       print(key)\n",
    "#\n",
    "# \n",
    "# like the below example \n",
    "for tup_val in tuple_3 :\n",
    "    print(tup_val)"
   ]
  },
  {
   "cell_type": "code",
   "execution_count": 80,
   "id": "c4b3fb88-c7af-42c5-9ce2-6e7698728597",
   "metadata": {},
   "outputs": [
    {
     "data": {
      "text/plain": [
       "7"
      ]
     },
     "execution_count": 80,
     "metadata": {},
     "output_type": "execute_result"
    }
   ],
   "source": [
    "len(tuple_3)"
   ]
  },
  {
   "cell_type": "code",
   "execution_count": 79,
   "id": "8a7d07e4-11bf-4979-9a80-1664c25c5e4d",
   "metadata": {},
   "outputs": [
    {
     "name": "stdout",
     "output_type": "stream",
     "text": [
      "0\n",
      "1\n",
      "2\n",
      "3\n",
      "4\n",
      "5\n",
      "6\n",
      "7\n",
      "8\n",
      "9\n"
     ]
    }
   ],
   "source": [
    "# for loop for numbers or index using range\n",
    "# range(len(list))\n",
    "for x in range(10):\n",
    "    print(x)"
   ]
  },
  {
   "cell_type": "code",
   "execution_count": 82,
   "id": "342b613c-2994-4e2c-9938-c30559683144",
   "metadata": {},
   "outputs": [
    {
     "name": "stdout",
     "output_type": "stream",
     "text": [
      "2\n",
      "3\n",
      "4\n",
      "5\n",
      "6\n",
      "7\n",
      "8\n",
      "9\n"
     ]
    }
   ],
   "source": [
    "# range also works for start position and last position \n",
    "# Start with Start and End upto last digit - 1\n",
    "for key in range(2,10) :\n",
    "    print(key)"
   ]
  },
  {
   "cell_type": "code",
   "execution_count": 84,
   "id": "42857b58-1fe6-4793-b5a7-13307c2f6371",
   "metadata": {},
   "outputs": [
    {
     "name": "stdout",
     "output_type": "stream",
     "text": [
      "3\n",
      "5\n",
      "7\n",
      "9\n",
      "11\n"
     ]
    }
   ],
   "source": [
    "# Range(Start_index,last_index,Increment)\n",
    "for key in range(3,12,2) :\n",
    "    print(key)"
   ]
  },
  {
   "cell_type": "code",
   "execution_count": 86,
   "id": "2b160e0b-bc9c-4b1b-9b1a-851a73802f19",
   "metadata": {},
   "outputs": [
    {
     "name": "stdout",
     "output_type": "stream",
     "text": [
      "1\n",
      "2\n",
      "3\n",
      "4\n",
      "5\n",
      "6\n",
      "7\n",
      "8\n",
      "9\n",
      "10\n",
      "11\n",
      "12\n",
      "13\n",
      "14\n",
      "15\n",
      "16\n",
      "17\n",
      "18\n",
      "19\n",
      "20\n"
     ]
    }
   ],
   "source": [
    "i = 1;\n",
    "while i<=20: \n",
    "    print(i)\n",
    "    i = i+1"
   ]
  },
  {
   "cell_type": "code",
   "execution_count": null,
   "id": "3320154b-a39f-4ee8-bae2-08bc2efca5f3",
   "metadata": {},
   "outputs": [],
   "source": []
  }
 ],
 "metadata": {
  "kernelspec": {
   "display_name": "Python 3 (ipykernel)",
   "language": "python",
   "name": "python3"
  },
  "language_info": {
   "codemirror_mode": {
    "name": "ipython",
    "version": 3
   },
   "file_extension": ".py",
   "mimetype": "text/x-python",
   "name": "python",
   "nbconvert_exporter": "python",
   "pygments_lexer": "ipython3",
   "version": "3.11.7"
  }
 },
 "nbformat": 4,
 "nbformat_minor": 5
}
