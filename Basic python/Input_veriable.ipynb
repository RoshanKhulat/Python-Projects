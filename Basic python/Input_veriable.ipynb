{
 "cells": [
  {
   "cell_type": "markdown",
   "id": "7d3c2807-9ae4-4895-a77b-00ccd279f722",
   "metadata": {},
   "source": [
    "## Date : 30th March 2024\n",
    "## Conduct by : M.S Vanthana\n",
    "## input Veribale "
   ]
  },
  {
   "cell_type": "markdown",
   "id": "b24c5f0b-cf80-4529-a5ba-dc14bc52b0ad",
   "metadata": {},
   "source": [
    "num = input(\"Enter the number\")\n",
    "print(num)"
   ]
  },
  {
   "cell_type": "code",
   "execution_count": 3,
   "id": "20ded080-6975-4b1d-baca-066293ce61b7",
   "metadata": {},
   "outputs": [
    {
     "name": "stdin",
     "output_type": "stream",
     "text": [
      "what is your name? Roshan\n"
     ]
    },
    {
     "name": "stdout",
     "output_type": "stream",
     "text": [
      "Hi , How are you Roshan\n"
     ]
    }
   ],
   "source": [
    "name = input(\"what is your name?\")\n",
    "print(\"Hi , How are you\",name)"
   ]
  },
  {
   "cell_type": "code",
   "execution_count": 7,
   "id": "7adb67c1-82d6-446e-a111-acb98af22516",
   "metadata": {},
   "outputs": [
    {
     "name": "stdin",
     "output_type": "stream",
     "text": [
      "Enter your Birth Year:  1998\n"
     ]
    },
    {
     "name": "stdout",
     "output_type": "stream",
     "text": [
      "your age is  26\n"
     ]
    }
   ],
   "source": [
    "# type casting with user input\n",
    "year = int(input(\"Enter your Birth Year: \"))\n",
    "age = 2024 - year\n",
    "print(\"your age is \",age)"
   ]
  },
  {
   "cell_type": "markdown",
   "id": "3a59c0da-6374-4631-9a24-49a1e024bbb4",
   "metadata": {},
   "source": [
    "##### Find out the are of Rectangle using lenght and breath , Accept the values from user."
   ]
  },
  {
   "cell_type": "code",
   "execution_count": 10,
   "id": "e7f8678f-8707-48db-94de-93fb6d993d12",
   "metadata": {},
   "outputs": [
    {
     "name": "stdin",
     "output_type": "stream",
     "text": [
      "Enter the lenght of Rectanle :  6\n",
      "Enter the breath of Rectanle :  4\n"
     ]
    },
    {
     "name": "stdout",
     "output_type": "stream",
     "text": [
      "Area of Rectnagle is  24\n"
     ]
    }
   ],
   "source": [
    "lenght = int(input(\"Enter the lenght of Rectanle : \"))\n",
    "breath = int(input(\"Enter the breath of Rectanle : \"))\n",
    "Area_of_rectangle = lenght * breath\n",
    "\n",
    "print(\"Area of Rectnagle is \",Area_of_rectangle)\n"
   ]
  },
  {
   "cell_type": "markdown",
   "id": "88a14299-3910-448f-ab26-aaccc7732378",
   "metadata": {},
   "source": [
    "### Concatination\n",
    "#### join two or more strings"
   ]
  },
  {
   "cell_type": "code",
   "execution_count": 12,
   "id": "ed90474a-79ba-4a23-997e-30a5ffe99acd",
   "metadata": {},
   "outputs": [
    {
     "name": "stdout",
     "output_type": "stream",
     "text": [
      "We are learning Python\n"
     ]
    }
   ],
   "source": [
    "x = \"We are learning\"\n",
    "y = \"Python\"\n",
    "print(x+\" \"+y)"
   ]
  },
  {
   "cell_type": "code",
   "execution_count": 14,
   "id": "a891d724-1545-4f67-abad-5bb1cb570f00",
   "metadata": {},
   "outputs": [
    {
     "name": "stdin",
     "output_type": "stream",
     "text": [
      "Enter your name :  Roshan\n",
      "What is your age :  26\n"
     ]
    },
    {
     "name": "stdout",
     "output_type": "stream",
     "text": [
      "Hi, Roshan your age is 26\n"
     ]
    }
   ],
   "source": [
    "# Tell me about your self\n",
    "name = input(\"Enter your name : \")\n",
    "age = int(input(\"What is your age : \"))\n",
    "\n",
    "print(\"Hi, \"+name+\" your age is\",age)"
   ]
  },
  {
   "cell_type": "markdown",
   "id": "21f53637-d0a6-476e-9c14-e3825d164607",
   "metadata": {},
   "source": [
    "## Formate String\n",
    "### .format()"
   ]
  },
  {
   "cell_type": "code",
   "execution_count": 18,
   "id": "77f2c24d-3279-4790-8a72-970d8213a035",
   "metadata": {},
   "outputs": [
    {
     "name": "stdout",
     "output_type": "stream",
     "text": [
      "Hello, friends today is Saturday and Rangpanchami festival. We are learning Python module currently.\n"
     ]
    }
   ],
   "source": [
    "# format : this is Method we use when the string want to holds two or veriable we make this as temple with {} cotes then using \n",
    "#           this method we can we can replace the value\n",
    "\n",
    "today = \"Saturday\"\n",
    "fest = \"Rangpanchami\"\n",
    "module = \"Python\"\n",
    "\n",
    "str  = \"Hello, friends today is {} and {} festival. We are learning {} module currently.\"\n",
    "output_val = str.format(today,fest,module)\n",
    "print(output_val)"
   ]
  },
  {
   "cell_type": "markdown",
   "id": "a4116da3-a73d-4191-8673-3a760b8221f1",
   "metadata": {},
   "source": [
    "#### Excersice"
   ]
  },
  {
   "cell_type": "code",
   "execution_count": 24,
   "id": "2a218727-37ef-4ff5-b79c-e180055e503e",
   "metadata": {},
   "outputs": [
    {
     "name": "stdin",
     "output_type": "stream",
     "text": [
      "Enter your English Marks:  75\n",
      "Enter your Maths Marks:  95\n"
     ]
    },
    {
     "name": "stdout",
     "output_type": "stream",
     "text": [
      "My total marks of english and maths is 170 out of 200\n"
     ]
    }
   ],
   "source": [
    "english = int(input(\"Enter your English Marks: \"))\n",
    "maths = int(input(\"Enter your Maths Marks: \"))\n",
    "total = maths + english\n",
    "str = \"My total marks of english and maths is {} out of 200\"\n",
    "\n",
    "output_str = str.format(total)\n",
    "print(output_str)"
   ]
  },
  {
   "cell_type": "markdown",
   "id": "1643d7ef-9eb3-4677-90c0-d3cbe7b68bda",
   "metadata": {},
   "source": [
    "##### Task:Explores Strings Methods "
   ]
  },
  {
   "cell_type": "markdown",
   "id": "2c5c06a3-b790-4339-b29c-8d2a6b3dc012",
   "metadata": {},
   "source": [
    "### Slicing"
   ]
  },
  {
   "cell_type": "code",
   "execution_count": 25,
   "id": "11952bcc-54c5-417f-a8c1-67dc3fb365e1",
   "metadata": {},
   "outputs": [
    {
     "name": "stdout",
     "output_type": "stream",
     "text": [
      "T\n"
     ]
    }
   ],
   "source": [
    "str = \"This is Demo String\"\n",
    "print(str[0])"
   ]
  },
  {
   "cell_type": "code",
   "execution_count": 26,
   "id": "cb5fa92e-11ac-4f8e-9c12-21377d1b842d",
   "metadata": {},
   "outputs": [
    {
     "name": "stdout",
     "output_type": "stream",
     "text": [
      "is is Demo String\n"
     ]
    }
   ],
   "source": [
    "print(str[2:])"
   ]
  },
  {
   "cell_type": "code",
   "execution_count": 27,
   "id": "d7838960-7ebf-4e73-b4db-877aaf03dee8",
   "metadata": {},
   "outputs": [
    {
     "name": "stdout",
     "output_type": "stream",
     "text": [
      "This is D\n"
     ]
    }
   ],
   "source": [
    "print(str[:9])"
   ]
  },
  {
   "cell_type": "code",
   "execution_count": 29,
   "id": "48ad6ae4-fb49-48c6-a1b9-b52cac5b2d72",
   "metadata": {},
   "outputs": [
    {
     "name": "stdout",
     "output_type": "stream",
     "text": [
      "is Demo\n"
     ]
    }
   ],
   "source": [
    "print(str[5:12])"
   ]
  },
  {
   "cell_type": "code",
   "execution_count": 30,
   "id": "9b12613e-fa4d-4165-9b62-a389cd434bd2",
   "metadata": {},
   "outputs": [
    {
     "name": "stdout",
     "output_type": "stream",
     "text": [
      "g\n"
     ]
    }
   ],
   "source": [
    "# Negative Indexing\n",
    "print(str[-1])"
   ]
  },
  {
   "cell_type": "code",
   "execution_count": 34,
   "id": "eee44c9c-fdf0-443b-bac8-b1ee870d182c",
   "metadata": {},
   "outputs": [
    {
     "name": "stdout",
     "output_type": "stream",
     "text": [
      "t\n"
     ]
    }
   ],
   "source": [
    "print(str[-5])"
   ]
  },
  {
   "cell_type": "code",
   "execution_count": 36,
   "id": "23b63650-9000-4870-9d9e-e2424612f878",
   "metadata": {},
   "outputs": [
    {
     "data": {
      "text/plain": [
       "'es'"
      ]
     },
     "execution_count": 36,
     "metadata": {},
     "output_type": "execute_result"
    }
   ],
   "source": [
    "list = [\"Roshan\",\"Rakesh\",\"Rocky\"]\n",
    "#Q accept First character of first word\n",
    "\n",
    "list[0][0]\n",
    "list[1][3:5]"
   ]
  }
 ],
 "metadata": {
  "kernelspec": {
   "display_name": "Python 3 (ipykernel)",
   "language": "python",
   "name": "python3"
  },
  "language_info": {
   "codemirror_mode": {
    "name": "ipython",
    "version": 3
   },
   "file_extension": ".py",
   "mimetype": "text/x-python",
   "name": "python",
   "nbconvert_exporter": "python",
   "pygments_lexer": "ipython3",
   "version": "3.11.7"
  }
 },
 "nbformat": 4,
 "nbformat_minor": 5
}
